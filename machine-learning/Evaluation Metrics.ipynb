{
 "cells": [
  {
   "cell_type": "markdown",
   "metadata": {},
   "source": [
    "# Intro"
   ]
  },
  {
   "cell_type": "code",
   "execution_count": null,
   "metadata": {},
   "outputs": [],
   "source": []
  },
  {
   "cell_type": "markdown",
   "metadata": {},
   "source": [
    "Notebook that explores evaluation metrics for different tasks (classification, regression) and scenarios (binary, multi-class, probabilities). See also loss/cost/objective function."
   ]
  },
  {
   "cell_type": "code",
   "execution_count": 21,
   "metadata": {
    "ExecuteTime": {
     "end_time": "2021-04-23T12:03:51.432661Z",
     "start_time": "2021-04-23T12:03:51.427687Z"
    }
   },
   "outputs": [],
   "source": [
    "import numpy as np\n",
    "import pandas as pd\n",
    "from sklearn import metrics\n",
    "import matplotlib.pyplot as plt\n",
    "\n",
    "import seaborn as sns\n",
    "sns.set_style('dark')\n",
    "#sns.set_context(\"paper\")\n",
    "\n",
    "#%matplotlib notebook"
   ]
  },
  {
   "cell_type": "markdown",
   "metadata": {},
   "source": [
    "# Classification "
   ]
  },
  {
   "cell_type": "markdown",
   "metadata": {},
   "source": [
    "## Accuracy, precision, recall"
   ]
  },
  {
   "cell_type": "markdown",
   "metadata": {},
   "source": [
    "$$ accuracy = \\frac{TP+TN}{TP+TN+FP+FN}  $$\n",
    "\n",
    "$$ precision = \\frac{TP}{TP+FP}  $$\n",
    "\n",
    "$$ recall = \\frac{TP}{TP+FN}  $$"
   ]
  },
  {
   "cell_type": "markdown",
   "metadata": {
    "heading_collapsed": true
   },
   "source": [
    "### Binary"
   ]
  },
  {
   "cell_type": "code",
   "execution_count": 2,
   "metadata": {
    "ExecuteTime": {
     "end_time": "2021-04-23T12:02:38.852976Z",
     "start_time": "2021-04-23T12:02:38.847608Z"
    },
    "hidden": true
   },
   "outputs": [],
   "source": [
    "# dummy data example\n",
    "y_true = [0, 1, 1, 1, 0, 1, 0, 1, 0, 1]\n",
    "y_pred = [0, 0, 0, 0, 0, 0, 0, 0, 0, 1]"
   ]
  },
  {
   "cell_type": "code",
   "execution_count": 3,
   "metadata": {
    "ExecuteTime": {
     "end_time": "2021-04-23T12:02:38.890258Z",
     "start_time": "2021-04-23T12:02:38.863431Z"
    },
    "hidden": true
   },
   "outputs": [
    {
     "name": "stdout",
     "output_type": "stream",
     "text": [
      "Accuracy = 0.5\n",
      "Precision = 1.0\n",
      "Recall = 0.16666666666666666\n"
     ]
    }
   ],
   "source": [
    "# accuracy, precision and recall using sklearn\n",
    "print(\"Accuracy = {}\".format(metrics.accuracy_score(y_true, y_pred)))\n",
    "print(\"Precision = {}\".format(metrics.precision_score(y_true, y_pred)))\n",
    "print(\"Recall = {}\".format(metrics.recall_score(y_true, y_pred)))"
   ]
  },
  {
   "cell_type": "markdown",
   "metadata": {},
   "source": [
    "### Multi-class"
   ]
  },
  {
   "cell_type": "markdown",
   "metadata": {},
   "source": [
    "Need an averagin method to compute precision and recall"
   ]
  },
  {
   "cell_type": "code",
   "execution_count": 4,
   "metadata": {
    "ExecuteTime": {
     "end_time": "2021-04-23T12:02:38.899536Z",
     "start_time": "2021-04-23T12:02:38.893389Z"
    }
   },
   "outputs": [],
   "source": [
    "# dummy data example\n",
    "y_true = [0, 1, 2, 3, 4, 5, 6, 7, 8, 9]\n",
    "y_pred = [0, 2, 1, 3, 3, 3, 6, 7, 9, 9]"
   ]
  },
  {
   "cell_type": "code",
   "execution_count": 5,
   "metadata": {
    "ExecuteTime": {
     "end_time": "2021-04-23T12:02:38.927427Z",
     "start_time": "2021-04-23T12:02:38.903280Z"
    }
   },
   "outputs": [
    {
     "name": "stdout",
     "output_type": "stream",
     "text": [
      "Accuracy = 0.5\n",
      "Precision = [1.         0.         0.         0.33333333 0.         0.\n",
      " 1.         1.         0.         0.5       ]\n",
      "Recall = [1. 0. 0. 1. 0. 0. 1. 1. 0. 1.]\n"
     ]
    },
    {
     "name": "stderr",
     "output_type": "stream",
     "text": [
      "/home/byungjae/.pyenv/versions/3.8.6/envs/lewagon/lib/python3.8/site-packages/sklearn/metrics/_classification.py:1268: UndefinedMetricWarning: Precision is ill-defined and being set to 0.0 in labels with no predicted samples. Use `zero_division` parameter to control this behavior.\n",
      "  _warn_prf(average, modifier, msg_start, len(result))\n"
     ]
    }
   ],
   "source": [
    "# accuracy, precision and recall using sklearn\n",
    "print(\"Accuracy = {}\".format(metrics.accuracy_score(y_true, y_pred)))\n",
    "print(\"Precision = {}\".format(metrics.precision_score(y_true, y_pred, average=None)))\n",
    "print(\"Recall = {}\".format(metrics.recall_score(y_true, y_pred, average=None)))"
   ]
  },
  {
   "cell_type": "code",
   "execution_count": 6,
   "metadata": {
    "ExecuteTime": {
     "end_time": "2021-04-23T12:02:38.948039Z",
     "start_time": "2021-04-23T12:02:38.930142Z"
    }
   },
   "outputs": [
    {
     "data": {
      "text/plain": [
       "array([[1, 0, 0, 0, 0, 0, 0, 0, 0, 0],\n",
       "       [0, 0, 1, 0, 0, 0, 0, 0, 0, 0],\n",
       "       [0, 1, 0, 0, 0, 0, 0, 0, 0, 0],\n",
       "       [0, 0, 0, 1, 0, 0, 0, 0, 0, 0],\n",
       "       [0, 0, 0, 1, 0, 0, 0, 0, 0, 0],\n",
       "       [0, 0, 0, 1, 0, 0, 0, 0, 0, 0],\n",
       "       [0, 0, 0, 0, 0, 0, 1, 0, 0, 0],\n",
       "       [0, 0, 0, 0, 0, 0, 0, 1, 0, 0],\n",
       "       [0, 0, 0, 0, 0, 0, 0, 0, 0, 1],\n",
       "       [0, 0, 0, 0, 0, 0, 0, 0, 0, 1]])"
      ]
     },
     "execution_count": 6,
     "metadata": {},
     "output_type": "execute_result"
    }
   ],
   "source": [
    "# Confusion Matrix\n",
    "metrics.confusion_matrix(y_true, y_pred)"
   ]
  },
  {
   "cell_type": "markdown",
   "metadata": {},
   "source": [
    "# Probabilities"
   ]
  },
  {
   "cell_type": "markdown",
   "metadata": {},
   "source": [
    "## Log Loss"
   ]
  },
  {
   "cell_type": "markdown",
   "metadata": {},
   "source": [
    "Also cross-entropy loss, a generalization for multiple classes of binary cross-entropy.\n",
    "\n",
    "$$\n",
    "H(p,q)\\ =\\ -\\sum _{i}p_{i}\\log q_{i}\\ =\\ -y\\log {\\hat  {y}}-(1-y)\\log(1-{\\hat  {y}})\n",
    "$$"
   ]
  },
  {
   "cell_type": "code",
   "execution_count": 7,
   "metadata": {
    "ExecuteTime": {
     "end_time": "2021-04-23T12:02:38.967377Z",
     "start_time": "2021-04-23T12:02:38.956724Z"
    }
   },
   "outputs": [
    {
     "data": {
      "text/plain": [
       "0.21616187468057912"
      ]
     },
     "execution_count": 7,
     "metadata": {},
     "output_type": "execute_result"
    }
   ],
   "source": [
    "# Log Loss with sklearn\n",
    "metrics.log_loss([\"spam\", \"ham\", \"ham\", \"spam\"],  \n",
    "         [[.1, .9], [.9, .1], [.8, .2], [.35, .65]])"
   ]
  },
  {
   "cell_type": "code",
   "execution_count": 8,
   "metadata": {
    "ExecuteTime": {
     "end_time": "2021-04-23T12:02:38.982559Z",
     "start_time": "2021-04-23T12:02:38.975062Z"
    }
   },
   "outputs": [],
   "source": [
    "# single binary case\n",
    "def log_loss(y_true, y_pred):\n",
    "    return ((-y_true * np.log(y_pred)) - \n",
    "             (1-y_true) * (np.log(1-y_pred)))"
   ]
  },
  {
   "cell_type": "code",
   "execution_count": 9,
   "metadata": {
    "ExecuteTime": {
     "end_time": "2021-04-23T12:02:38.992454Z",
     "start_time": "2021-04-23T12:02:38.986429Z"
    }
   },
   "outputs": [],
   "source": [
    "y_true = 1\n",
    "x = np.linspace(0.001, 0.999, 50)\n",
    "y = [log_loss(y_true, y_pred) for y_pred in x]"
   ]
  },
  {
   "cell_type": "code",
   "execution_count": 10,
   "metadata": {
    "ExecuteTime": {
     "end_time": "2021-04-23T12:02:39.232806Z",
     "start_time": "2021-04-23T12:02:39.008483Z"
    }
   },
   "outputs": [
    {
     "data": {
      "text/plain": [
       "Text(0, 0.5, 'loss')"
      ]
     },
     "execution_count": 10,
     "metadata": {},
     "output_type": "execute_result"
    },
    {
     "data": {
      "image/png": "[encoded data removed]",
      "text/plain": [
       "<Figure size 432x288 with 1 Axes>"
      ]
     },
     "metadata": {},
     "output_type": "display_data"
    }
   ],
   "source": [
    "# plot loss\n",
    "plt.plot(x, y)\n",
    "plt.xlabel(\"y_pred\")\n",
    "plt.ylabel(\"loss\")"
   ]
  },
  {
   "cell_type": "markdown",
   "metadata": {},
   "source": [
    "# Regression"
   ]
  },
  {
   "cell_type": "code",
   "execution_count": 11,
   "metadata": {
    "ExecuteTime": {
     "end_time": "2021-04-23T12:02:39.240089Z",
     "start_time": "2021-04-23T12:02:39.236037Z"
    }
   },
   "outputs": [],
   "source": [
    "y_true = [3, 0, 2, 7]\n",
    "y_pred = [4, 0, 3, 8]"
   ]
  },
  {
   "cell_type": "code",
   "execution_count": 14,
   "metadata": {
    "ExecuteTime": {
     "end_time": "2021-04-23T12:02:54.759794Z",
     "start_time": "2021-04-23T12:02:54.547177Z"
    }
   },
   "outputs": [
    {
     "data": {
      "image/png": "[encoded data removed]",
      "text/plain": [
       "<Figure size 432x288 with 1 Axes>"
      ]
     },
     "metadata": {},
     "output_type": "display_data"
    }
   ],
   "source": [
    "sns.regplot(x=np.arange(1,len(y_true)+1), y=np.array(y_true), fit_reg =False)\n",
    "sns.regplot(x=np.arange(1,len(y_true)+1), y=np.array(y_pred), color='r', fit_reg =False);"
   ]
  },
  {
   "cell_type": "code",
   "execution_count": 15,
   "metadata": {
    "ExecuteTime": {
     "end_time": "2021-04-23T12:02:54.897999Z",
     "start_time": "2021-04-23T12:02:54.891129Z"
    }
   },
   "outputs": [
    {
     "data": {
      "text/plain": [
       "0.75"
      ]
     },
     "execution_count": 15,
     "metadata": {},
     "output_type": "execute_result"
    }
   ],
   "source": [
    "metrics.mean_absolute_error(y_true, y_pred)"
   ]
  },
  {
   "cell_type": "code",
   "execution_count": 16,
   "metadata": {
    "ExecuteTime": {
     "end_time": "2021-04-23T12:02:55.290917Z",
     "start_time": "2021-04-23T12:02:55.283087Z"
    }
   },
   "outputs": [
    {
     "data": {
      "text/plain": [
       "0.75"
      ]
     },
     "execution_count": 16,
     "metadata": {},
     "output_type": "execute_result"
    }
   ],
   "source": [
    "metrics.mean_squared_error(y_true, y_pred)"
   ]
  },
  {
   "cell_type": "markdown",
   "metadata": {},
   "source": [
    "# Hinge Loss"
   ]
  },
  {
   "cell_type": "markdown",
   "metadata": {},
   "source": [
    "Also max-margin loos (proper of SVMs).\n",
    "\n",
    "$$l(y, \\hat{y}) = max(0, 1-(y \\cdot \\hat{y}))$$\n",
    "\n",
    "As can be observed, $y = \\pm1$"
   ]
  },
  {
   "cell_type": "code",
   "execution_count": 17,
   "metadata": {
    "ExecuteTime": {
     "end_time": "2021-04-23T12:02:56.235290Z",
     "start_time": "2021-04-23T12:02:56.231474Z"
    }
   },
   "outputs": [],
   "source": [
    "def hinge_loss(y_true, y_pred, margin=1):\n",
    "    return max(0, margin-(y_true*y_pred))"
   ]
  },
  {
   "cell_type": "code",
   "execution_count": 18,
   "metadata": {
    "ExecuteTime": {
     "end_time": "2021-04-23T12:02:56.576748Z",
     "start_time": "2021-04-23T12:02:56.568986Z"
    }
   },
   "outputs": [
    {
     "data": {
      "text/plain": [
       "0"
      ]
     },
     "execution_count": 18,
     "metadata": {},
     "output_type": "execute_result"
    }
   ],
   "source": [
    "hinge_loss(1, 1)"
   ]
  },
  {
   "cell_type": "code",
   "execution_count": 19,
   "metadata": {
    "ExecuteTime": {
     "end_time": "2021-04-23T12:02:56.926936Z",
     "start_time": "2021-04-23T12:02:56.921787Z"
    }
   },
   "outputs": [],
   "source": [
    "# compute loss for different predicted values\n",
    "y_true = 1\n",
    "margin = 1\n",
    "x = np.linspace(-1, 1, 10)\n",
    "y = [hinge_loss(y_true, y_pred, margin) for y_pred in x]"
   ]
  },
  {
   "cell_type": "code",
   "execution_count": 20,
   "metadata": {
    "ExecuteTime": {
     "end_time": "2021-04-23T12:02:57.642097Z",
     "start_time": "2021-04-23T12:02:57.167981Z"
    }
   },
   "outputs": [
    {
     "data": {
      "image/png": "[encoded data removed]",
      "text/plain": [
       "<Figure size 432x288 with 1 Axes>"
      ]
     },
     "metadata": {},
     "output_type": "display_data"
    }
   ],
   "source": [
    "# plot loss\n",
    "plt.plot(x, y)\n",
    "plt.title(\"Hinge loss for y_true = {}, margin={}\".format(y_true, margin))\n",
    "plt.xlabel(\"y_pred\")\n",
    "plt.ylabel(\"loss\")\n",
    "plt.show();"
   ]
  },
  {
   "cell_type": "code",
   "execution_count": null,
   "metadata": {},
   "outputs": [],
   "source": []
  },
  {
   "cell_type": "code",
   "execution_count": null,
   "metadata": {},
   "outputs": [],
   "source": []
  }
 ],
 "metadata": {
  "anaconda-cloud": {},
  "kernelspec": {
   "display_name": "Python 3",
   "language": "python",
   "name": "python3"
  },
  "language_info": {
   "codemirror_mode": {
    "name": "ipython",
    "version": 3
   },
   "file_extension": ".py",
   "mimetype": "text/x-python",
   "name": "python",
   "nbconvert_exporter": "python",
   "pygments_lexer": "ipython3",
   "version": "3.8.6"
  },
  "toc": {
   "base_numbering": 1,
   "nav_menu": {
    "height": "136px",
    "width": "252px"
   },
   "number_sections": true,
   "sideBar": true,
   "skip_h1_title": false,
   "title_cell": "Table of Contents",
   "title_sidebar": "Contents",
   "toc_cell": false,
   "toc_position": {},
   "toc_section_display": "block",
   "toc_window_display": false
  },
  "varInspector": {
   "cols": {
    "lenName": 16,
    "lenType": 16,
    "lenVar": 40
   },
   "kernels_config": {
    "python": {
     "delete_cmd_postfix": "",
     "delete_cmd_prefix": "del ",
     "library": "var_list.py",
     "varRefreshCmd": "print(var_dic_list())"
    },
    "r": {
     "delete_cmd_postfix": ") ",
     "delete_cmd_prefix": "rm(",
     "library": "var_list.r",
     "varRefreshCmd": "cat(var_dic_list()) "
    }
   },
   "types_to_exclude": [
    "module",
    "function",
    "builtin_function_or_method",
    "instance",
    "_Feature"
   ],
   "window_display": false
  }
 },
 "nbformat": 4,
 "nbformat_minor": 1
}
