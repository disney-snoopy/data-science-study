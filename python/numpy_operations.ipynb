{
 "cells": [
  {
   "cell_type": "code",
   "execution_count": 1,
   "id": "aerial-isolation",
   "metadata": {
    "ExecuteTime": {
     "end_time": "2021-04-23T18:31:01.623906Z",
     "start_time": "2021-04-23T18:31:01.619750Z"
    }
   },
   "outputs": [],
   "source": [
    "import numpy as np"
   ]
  },
  {
   "cell_type": "markdown",
   "id": "intelligent-strategy",
   "metadata": {},
   "source": [
    "# Numpy Array and Properties"
   ]
  },
  {
   "cell_type": "markdown",
   "id": "fancy-binding",
   "metadata": {},
   "source": [
    "Unlike Python list, the elements of a numpy array have the same data type.  \n",
    "Numpy arrays allow vectorised computation which is much faster than loops.  \n",
    "For machine learning application, which require large amount of computations, vectorised computation is mandatory."
   ]
  },
  {
   "cell_type": "code",
   "execution_count": 386,
   "id": "satisfied-darwin",
   "metadata": {
    "ExecuteTime": {
     "end_time": "2021-04-24T01:05:41.790683Z",
     "start_time": "2021-04-24T01:05:41.774163Z"
    }
   },
   "outputs": [],
   "source": [
    "a = range(1000000)\n",
    "b = np.arange(0, 1e7, 1, dtype = 'int32')"
   ]
  },
  {
   "cell_type": "code",
   "execution_count": 387,
   "id": "armed-agency",
   "metadata": {
    "ExecuteTime": {
     "end_time": "2021-04-24T01:05:43.669557Z",
     "start_time": "2021-04-24T01:05:43.664012Z"
    }
   },
   "outputs": [],
   "source": [
    "def list_div(inp, div):\n",
    "    out = []\n",
    "    for i in inp:\n",
    "        out.append(i/div)\n",
    "    return out"
   ]
  },
  {
   "cell_type": "code",
   "execution_count": 388,
   "id": "included-fairy",
   "metadata": {
    "ExecuteTime": {
     "end_time": "2021-04-24T01:06:01.411883Z",
     "start_time": "2021-04-24T01:05:44.492264Z"
    }
   },
   "outputs": [
    {
     "name": "stdout",
     "output_type": "stream",
     "text": [
      "167 ms ± 16.8 ms per loop (mean ± std. dev. of 7 runs, 10 loops each)\n",
      "27 ms ± 5.94 ms per loop (mean ± std. dev. of 7 runs, 10 loops each)\n"
     ]
    }
   ],
   "source": [
    "%timeit q = list_div(a, 2)\n",
    "%timeit q = b/2"
   ]
  },
  {
   "cell_type": "markdown",
   "id": "german-desperate",
   "metadata": {},
   "source": [
    "## Data types in numpy array"
   ]
  },
  {
   "cell_type": "markdown",
   "id": "current-eclipse",
   "metadata": {},
   "source": [
    "- bool_  \n",
    "Boolean (True or False) stored as a byte  \n",
    "- int_  \n",
    "Default integer type (same as C long; normally either int64 or int32)  \n",
    "- intc\t  \n",
    "Identical to C int (normally int32 or int64)  \n",
    "- intp  \n",
    "Integer used for indexing (same as C ssize_t; normally either int32 or int64)  \n",
    "- int8  \n",
    "Byte (-128 to 127)  \n",
    "- int16  \n",
    "Integer (-32768 to 32767)  \n",
    "- int32  \n",
    "Integer (-2147483648 to 2147483647)  \n",
    "- int64  \n",
    "Integer (-9223372036854775808 to 9223372036854775807)  \n",
    "- uint8  \n",
    "Unsigned integer (0 to 255)  \n",
    "- uint16  \n",
    "Unsigned integer (0 to 65535)  \n",
    "- uint32  \n",
    "Unsigned integer (0 to 4294967295)  \n",
    "- uint64  \n",
    "Unsigned integer (0 to 18446744073709551615)  \n",
    "- float_  \n",
    "Shorthand for float64  \n",
    "- float16  \n",
    "Half precision float: sign bit, 5 bits exponent, 10 bits mantissa  \n",
    "- float32  \n",
    "Single precision float: sign bit, 8 bits exponent, 23 bits mantissa  \n",
    "- float64  \n",
    "Double precision float: sign bit, 11 bits exponent, 52 bits mantissa  \n",
    "- complex_  \n",
    "Shorthand for complex128.  \n",
    "- complex64  \n",
    "Complex number, represented by two 32-bit floats  \n",
    "- complex128  \n",
    "Complex number, represented by two 64-bit floats  \n"
   ]
  },
  {
   "cell_type": "markdown",
   "id": "known-sunday",
   "metadata": {},
   "source": [
    "##### Creating an array"
   ]
  },
  {
   "cell_type": "code",
   "execution_count": 126,
   "id": "independent-brunei",
   "metadata": {
    "ExecuteTime": {
     "end_time": "2021-04-23T22:28:33.001197Z",
     "start_time": "2021-04-23T22:28:32.994718Z"
    }
   },
   "outputs": [
    {
     "name": "stdout",
     "output_type": "stream",
     "text": [
      "(2, 2)\n",
      "[[1 2]\n",
      " [3 4]]\n"
     ]
    }
   ],
   "source": [
    "# creating an array\n",
    "a = np.array([[1,2],\n",
    "              [3,4]], dtype = 'int')\n",
    "print(a.shape)\n",
    "print(a)"
   ]
  },
  {
   "cell_type": "code",
   "execution_count": 30,
   "id": "usual-celebration",
   "metadata": {
    "ExecuteTime": {
     "end_time": "2021-04-23T20:39:30.233984Z",
     "start_time": "2021-04-23T20:39:30.227087Z"
    }
   },
   "outputs": [
    {
     "name": "stdout",
     "output_type": "stream",
     "text": [
      "(2, 2)\n",
      "[[1 1]\n",
      " [1 1]]\n"
     ]
    }
   ],
   "source": [
    "# create array of 1s with designated shape\n",
    "a = np.ones((2,2), dtype = 'int')\n",
    "print(a.shape)\n",
    "print(a)"
   ]
  },
  {
   "cell_type": "code",
   "execution_count": 27,
   "id": "fancy-liberal",
   "metadata": {
    "ExecuteTime": {
     "end_time": "2021-04-23T20:22:49.782281Z",
     "start_time": "2021-04-23T20:22:49.777657Z"
    }
   },
   "outputs": [
    {
     "name": "stdout",
     "output_type": "stream",
     "text": [
      "(3, 3)\n",
      "[[0. 0. 0.]\n",
      " [0. 0. 0.]\n",
      " [0. 0. 0.]]\n"
     ]
    }
   ],
   "source": [
    "# create array of 0s with designated shape\n",
    "a = np.zeros((3,3), dtype = 'float32')\n",
    "print(a.shape)\n",
    "print(a)"
   ]
  },
  {
   "cell_type": "code",
   "execution_count": 35,
   "id": "contemporary-legislation",
   "metadata": {
    "ExecuteTime": {
     "end_time": "2021-04-23T20:40:14.121133Z",
     "start_time": "2021-04-23T20:40:14.114342Z"
    }
   },
   "outputs": [
    {
     "name": "stdout",
     "output_type": "stream",
     "text": [
      "[[2 2 2 2]\n",
      " [2 2 2 2]\n",
      " [2 2 2 2]]\n"
     ]
    }
   ],
   "source": [
    "# array full of an element\n",
    "a = np.full(shape = (3,4),\n",
    "            fill_value = 2)\n",
    "print(a)"
   ]
  },
  {
   "cell_type": "code",
   "execution_count": 40,
   "id": "bronze-midwest",
   "metadata": {
    "ExecuteTime": {
     "end_time": "2021-04-23T20:40:39.765084Z",
     "start_time": "2021-04-23T20:40:39.758401Z"
    }
   },
   "outputs": [
    {
     "name": "stdout",
     "output_type": "stream",
     "text": [
      "[[1. 0. 0. 0. 0.]\n",
      " [0. 1. 0. 0. 0.]\n",
      " [0. 0. 1. 0. 0.]\n",
      " [0. 0. 0. 1. 0.]\n",
      " [0. 0. 0. 0. 1.]]\n"
     ]
    }
   ],
   "source": [
    "# identity matrix\n",
    "a = np.eye(5)\n",
    "print(a)"
   ]
  },
  {
   "cell_type": "code",
   "execution_count": 114,
   "id": "passing-merchandise",
   "metadata": {
    "ExecuteTime": {
     "end_time": "2021-04-23T22:19:24.152638Z",
     "start_time": "2021-04-23T22:19:24.145778Z"
    }
   },
   "outputs": [
    {
     "name": "stdout",
     "output_type": "stream",
     "text": [
      "[ 0  2  4  6  8 10 12 14 16 18]\n"
     ]
    }
   ],
   "source": [
    "# Create an array filled with a linear sequence\n",
    "# Starting at 0, ending at 20, stepping by 2\n",
    "# (this is similar to the built-in range() function)\n",
    "a = np.arange(0, 20, 2)\n",
    "print(a)"
   ]
  },
  {
   "cell_type": "code",
   "execution_count": 118,
   "id": "hydraulic-plaintiff",
   "metadata": {
    "ExecuteTime": {
     "end_time": "2021-04-23T22:20:19.584784Z",
     "start_time": "2021-04-23T22:20:19.577783Z"
    }
   },
   "outputs": [
    {
     "name": "stdout",
     "output_type": "stream",
     "text": [
      "[ 0.  1.  2.  3.  4.  5.  6.  7.  8.  9. 10. 11. 12. 13. 14. 15. 16. 17.\n",
      " 18. 19. 20.]\n"
     ]
    }
   ],
   "source": [
    "# Create an array filled with a linear sequence\n",
    "# Create an array of five 21 evenly spaced between 0 and 21\n",
    "a = np.linspace(0, 20, 21)\n",
    "print(a)"
   ]
  },
  {
   "cell_type": "markdown",
   "id": "southern-music",
   "metadata": {},
   "source": [
    "##### Create with random choices"
   ]
  },
  {
   "cell_type": "code",
   "execution_count": 45,
   "id": "native-afternoon",
   "metadata": {
    "ExecuteTime": {
     "end_time": "2021-04-23T20:42:03.483344Z",
     "start_time": "2021-04-23T20:42:03.474336Z"
    }
   },
   "outputs": [
    {
     "data": {
      "text/plain": [
       "array([[9, 8, 9, 3],\n",
       "       [7, 7, 9, 8]])"
      ]
     },
     "execution_count": 45,
     "metadata": {},
     "output_type": "execute_result"
    }
   ],
   "source": [
    "# matrix with random integers\n",
    "a = np.random.randint(low = 3, high = 10, size = (2,4))\n",
    "print(a)"
   ]
  },
  {
   "cell_type": "code",
   "execution_count": 54,
   "id": "green-logan",
   "metadata": {
    "ExecuteTime": {
     "end_time": "2021-04-23T20:43:21.619947Z",
     "start_time": "2021-04-23T20:43:21.613224Z"
    }
   },
   "outputs": [
    {
     "name": "stdout",
     "output_type": "stream",
     "text": [
      "[[0.79149041 0.63641728 0.75502792 0.74833868]\n",
      " [0.13297529 0.33191999 0.29693325 0.12263582]\n",
      " [0.56730759 0.70898625 0.23641769 0.94014293]]\n"
     ]
    }
   ],
   "source": [
    "# random float between 0 and 1\n",
    "a = np.random.rand(3, 4)\n",
    "print(a)"
   ]
  },
  {
   "cell_type": "code",
   "execution_count": 58,
   "id": "southeast-clinic",
   "metadata": {
    "ExecuteTime": {
     "end_time": "2021-04-23T20:44:17.315960Z",
     "start_time": "2021-04-23T20:44:17.310364Z"
    }
   },
   "outputs": [
    {
     "name": "stdout",
     "output_type": "stream",
     "text": [
      "[[-0.20623117 -0.05000452]\n",
      " [ 0.04885306 -1.5924071 ]]\n"
     ]
    }
   ],
   "source": [
    "# randomly pick elements from standard normal distribution (mean = 0, variance = 1)\n",
    "a = np.random.randn(2,2)\n",
    "print(a)"
   ]
  },
  {
   "cell_type": "code",
   "execution_count": 121,
   "id": "equivalent-cookie",
   "metadata": {
    "ExecuteTime": {
     "end_time": "2021-04-23T22:22:21.286917Z",
     "start_time": "2021-04-23T22:22:21.280622Z"
    }
   },
   "outputs": [
    {
     "name": "stdout",
     "output_type": "stream",
     "text": [
      "[[3.08432967 3.34525535 5.47638711]\n",
      " [1.17056208 1.73567436 3.20125153]]\n"
     ]
    }
   ],
   "source": [
    "# randomly pick from a normal distribution with given mean and standard deviation\n",
    "a = np.random.normal(loc = 3, scale = 2, size = (2,3))\n",
    "print(a)"
   ]
  },
  {
   "cell_type": "markdown",
   "id": "about-shepherd",
   "metadata": {},
   "source": [
    "##### Array properties"
   ]
  },
  {
   "cell_type": "code",
   "execution_count": 60,
   "id": "sunrise-projector",
   "metadata": {
    "ExecuteTime": {
     "end_time": "2021-04-23T21:16:54.968763Z",
     "start_time": "2021-04-23T21:16:54.961647Z"
    }
   },
   "outputs": [
    {
     "name": "stdout",
     "output_type": "stream",
     "text": [
      "[[-0.94750327 -0.14570718  1.79210131  0.99735453 -1.14320907]\n",
      " [ 0.24813545 -0.75511727 -1.62875077 -0.80221798 -0.90230901]\n",
      " [ 1.46063906 -0.13240113  0.39441804  0.38129038 -0.65697071]]\n"
     ]
    }
   ],
   "source": [
    "a = np.random.randn(3, 5)\n",
    "print(a)"
   ]
  },
  {
   "cell_type": "code",
   "execution_count": 129,
   "id": "present-crystal",
   "metadata": {
    "ExecuteTime": {
     "end_time": "2021-04-23T22:29:45.595138Z",
     "start_time": "2021-04-23T22:29:45.587677Z"
    }
   },
   "outputs": [
    {
     "name": "stdout",
     "output_type": "stream",
     "text": [
      "2\n",
      "int64\n",
      "(2, 2)\n",
      "4\n"
     ]
    }
   ],
   "source": [
    "# shape, size, number of dimensions, number of items\n",
    "print(a.ndim)\n",
    "print(a.dtype)\n",
    "print(a.shape)\n",
    "print(a.size)"
   ]
  },
  {
   "cell_type": "code",
   "execution_count": 134,
   "id": "eleven-passion",
   "metadata": {
    "ExecuteTime": {
     "end_time": "2021-04-23T22:31:24.041496Z",
     "start_time": "2021-04-23T22:31:24.034861Z"
    }
   },
   "outputs": [
    {
     "name": "stdout",
     "output_type": "stream",
     "text": [
      "size of each item in an array in bytes: 8 bytes\n",
      "size of the array in bytes: 32 bytes\n"
     ]
    }
   ],
   "source": [
    "# size of the array in bytes\n",
    "print('size of each item in an array in bytes:', a.itemsize, 'bytes')\n",
    "print('size of the array in bytes:', a.nbytes, 'bytes')"
   ]
  },
  {
   "cell_type": "markdown",
   "id": "meaning-territory",
   "metadata": {},
   "source": [
    "# Array manipulation"
   ]
  },
  {
   "cell_type": "markdown",
   "id": "accessible-issue",
   "metadata": {},
   "source": [
    "## Concatenating"
   ]
  },
  {
   "cell_type": "code",
   "execution_count": 279,
   "id": "standing-globe",
   "metadata": {
    "ExecuteTime": {
     "end_time": "2021-04-23T23:47:06.082195Z",
     "start_time": "2021-04-23T23:47:06.076596Z"
    }
   },
   "outputs": [
    {
     "name": "stdout",
     "output_type": "stream",
     "text": [
      "[[ 0  1  2]\n",
      " [ 3  4  5]\n",
      " [ 6  7  8]\n",
      " [ 9 10 11]]\n"
     ]
    }
   ],
   "source": [
    "a = np.arange(0, 12, 1).reshape(4,3)\n",
    "print(a)"
   ]
  },
  {
   "cell_type": "code",
   "execution_count": 280,
   "id": "through-variation",
   "metadata": {
    "ExecuteTime": {
     "end_time": "2021-04-23T23:47:06.765977Z",
     "start_time": "2021-04-23T23:47:06.760206Z"
    }
   },
   "outputs": [
    {
     "name": "stdout",
     "output_type": "stream",
     "text": [
      "[[ 0  1  2  3  4  5]\n",
      " [ 6  7  8  9 10 11]]\n"
     ]
    }
   ],
   "source": [
    "# reshape\n",
    "b = a.reshape(2, 6)\n",
    "print(b)"
   ]
  },
  {
   "cell_type": "code",
   "execution_count": 281,
   "id": "invalid-toddler",
   "metadata": {
    "ExecuteTime": {
     "end_time": "2021-04-23T23:47:11.754414Z",
     "start_time": "2021-04-23T23:47:11.747581Z"
    }
   },
   "outputs": [
    {
     "name": "stdout",
     "output_type": "stream",
     "text": [
      "(4, 3)\n",
      "(4, 3, 1)\n",
      "(1, 4, 3)\n"
     ]
    }
   ],
   "source": [
    "# adding new dimension\n",
    "b = a[:, :, np.newaxis]\n",
    "c = a[np.newaxis, :, :]\n",
    "print(a.shape)\n",
    "print(b.shape)\n",
    "print(c.shape)"
   ]
  },
  {
   "cell_type": "code",
   "execution_count": 282,
   "id": "imperial-savannah",
   "metadata": {
    "ExecuteTime": {
     "end_time": "2021-04-23T23:47:14.118511Z",
     "start_time": "2021-04-23T23:47:14.110731Z"
    }
   },
   "outputs": [
    {
     "name": "stdout",
     "output_type": "stream",
     "text": [
      "(2, 4)\n",
      "(10, 2, 4)\n"
     ]
    }
   ],
   "source": [
    "# stacking a list of arrays along a new axis\n",
    "# basically converts a list of arrays into one array\n",
    "seq = [np.random.randn(2, 4) for _ in range(10)]\n",
    "print(seq[0].shape)\n",
    "stacked = np.stack(seq)\n",
    "print(stacked.shape)"
   ]
  },
  {
   "cell_type": "code",
   "execution_count": 289,
   "id": "studied-lewis",
   "metadata": {
    "ExecuteTime": {
     "end_time": "2021-04-23T23:48:51.854408Z",
     "start_time": "2021-04-23T23:48:51.846630Z"
    }
   },
   "outputs": [
    {
     "name": "stdout",
     "output_type": "stream",
     "text": [
      "[[1. 1. 1.]\n",
      " [1. 1. 1.]\n",
      " [1. 1. 1.]\n",
      " [0. 0. 0.]\n",
      " [0. 0. 0.]\n",
      " [0. 0. 0.]]\n"
     ]
    }
   ],
   "source": [
    "# merging two arrays\n",
    "# vertically stacking a list of arrays\n",
    "a = np.ones((3,3))\n",
    "b = np.zeros((3,3))\n",
    "c = np.vstack([a,b])\n",
    "print(c)"
   ]
  },
  {
   "cell_type": "code",
   "execution_count": 290,
   "id": "italian-arena",
   "metadata": {
    "ExecuteTime": {
     "end_time": "2021-04-23T23:49:02.544192Z",
     "start_time": "2021-04-23T23:49:02.535458Z"
    }
   },
   "outputs": [
    {
     "name": "stdout",
     "output_type": "stream",
     "text": [
      "(3, 3, 3)\n",
      "(1, 3, 3)\n",
      "(5, 3, 3)\n"
     ]
    }
   ],
   "source": [
    "# in case of higher dimensional arrays, stacking along the first axis\n",
    "a = np.random.randn(3,3,3)\n",
    "b = np.random.randn(1,3,3)\n",
    "c = np.vstack([a,b,b])\n",
    "print(a.shape)\n",
    "print(b.shape)\n",
    "print(c.shape)"
   ]
  },
  {
   "cell_type": "code",
   "execution_count": 291,
   "id": "macro-novelty",
   "metadata": {
    "ExecuteTime": {
     "end_time": "2021-04-23T23:49:30.938729Z",
     "start_time": "2021-04-23T23:49:30.929766Z"
    }
   },
   "outputs": [
    {
     "name": "stdout",
     "output_type": "stream",
     "text": [
      "[[1. 1. 1. 0. 0. 0.]\n",
      " [1. 1. 1. 0. 0. 0.]\n",
      " [1. 1. 1. 0. 0. 0.]]\n"
     ]
    }
   ],
   "source": [
    "# merging two arrays\n",
    "# vertically stacking a list of arrays\n",
    "a = np.ones((3,3))\n",
    "b = np.zeros((3,3))\n",
    "c = np.hstack([a,b])\n",
    "print(c)"
   ]
  },
  {
   "cell_type": "code",
   "execution_count": 292,
   "id": "smaller-professional",
   "metadata": {
    "ExecuteTime": {
     "end_time": "2021-04-23T23:49:36.060948Z",
     "start_time": "2021-04-23T23:49:36.054354Z"
    }
   },
   "outputs": [
    {
     "name": "stdout",
     "output_type": "stream",
     "text": [
      "(3, 3, 3)\n",
      "(3, 2, 3)\n",
      "(3, 5, 3)\n"
     ]
    }
   ],
   "source": [
    "# in case of higher dimensional arrays, stacking along the second axis\n",
    "a = np.random.randn(3,3,3)\n",
    "b = np.random.randn(3,2,3)\n",
    "c = np.hstack([a,b])\n",
    "print(a.shape)\n",
    "print(b.shape)\n",
    "print(c.shape)"
   ]
  },
  {
   "cell_type": "code",
   "execution_count": 293,
   "id": "hearing-medicare",
   "metadata": {
    "ExecuteTime": {
     "end_time": "2021-04-23T23:49:39.222471Z",
     "start_time": "2021-04-23T23:49:39.213990Z"
    }
   },
   "outputs": [
    {
     "name": "stdout",
     "output_type": "stream",
     "text": [
      "(6, 3, 3)\n",
      "(3, 6, 3)\n",
      "(3, 3, 6)\n"
     ]
    }
   ],
   "source": [
    "# generalisation of vstack and hstack.\n",
    "# concatenating along a given axis\n",
    "a = np.random.randn(3,3,3)\n",
    "b = np.random.randn(3,3,3)\n",
    "c = np.concatenate([a,b], axis = 0)\n",
    "print(c.shape)\n",
    "c = np.concatenate([a,b], axis = 1)\n",
    "print(c.shape)\n",
    "c = np.concatenate([a,b], axis = 2)\n",
    "print(c.shape)"
   ]
  },
  {
   "cell_type": "markdown",
   "id": "golden-grove",
   "metadata": {},
   "source": [
    "## Split"
   ]
  },
  {
   "cell_type": "code",
   "execution_count": 305,
   "id": "diverse-speaking",
   "metadata": {
    "ExecuteTime": {
     "end_time": "2021-04-24T00:03:56.806848Z",
     "start_time": "2021-04-24T00:03:56.799910Z"
    }
   },
   "outputs": [
    {
     "name": "stdout",
     "output_type": "stream",
     "text": [
      "[[ 0  1  2  3  4  5  6  7  8  9]\n",
      " [10 11 12 13 14 15 16 17 18 19]\n",
      " [20 21 22 23 24 25 26 27 28 29]]\n"
     ]
    }
   ],
   "source": [
    "a = np.arange(0, 30, 1).reshape(3,10)\n",
    "print(a)"
   ]
  },
  {
   "cell_type": "code",
   "execution_count": 308,
   "id": "traditional-context",
   "metadata": {
    "ExecuteTime": {
     "end_time": "2021-04-24T00:04:07.740474Z",
     "start_time": "2021-04-24T00:04:07.733424Z"
    }
   },
   "outputs": [
    {
     "name": "stdout",
     "output_type": "stream",
     "text": [
      "[[ 0  1  2  3  4  5  6  7  8  9]\n",
      " [10 11 12 13 14 15 16 17 18 19]]\n",
      "*******\n",
      "[[20 21 22 23 24 25 26 27 28 29]]\n"
     ]
    }
   ],
   "source": [
    "b = np.vsplit(a, [2])\n",
    "print(b[0])\n",
    "print('*******')\n",
    "print(b[1])"
   ]
  },
  {
   "cell_type": "code",
   "execution_count": 310,
   "id": "buried-justice",
   "metadata": {
    "ExecuteTime": {
     "end_time": "2021-04-24T00:04:40.220549Z",
     "start_time": "2021-04-24T00:04:40.210920Z"
    }
   },
   "outputs": [
    {
     "name": "stdout",
     "output_type": "stream",
     "text": [
      "[[ 0  1  2]\n",
      " [10 11 12]\n",
      " [20 21 22]]\n",
      "*******\n",
      "[[ 3  4  5]\n",
      " [13 14 15]\n",
      " [23 24 25]]\n",
      "*******\n",
      "[[ 6  7  8  9]\n",
      " [16 17 18 19]\n",
      " [26 27 28 29]]\n"
     ]
    }
   ],
   "source": [
    "b = np.hsplit(a, [3,6])\n",
    "print(b[0])\n",
    "print('*******')\n",
    "print(b[1])\n",
    "print('*******')\n",
    "print(b[2])"
   ]
  },
  {
   "cell_type": "markdown",
   "id": "minimal-steps",
   "metadata": {},
   "source": [
    "# Array indexing"
   ]
  },
  {
   "cell_type": "markdown",
   "id": "noted-cycling",
   "metadata": {},
   "source": [
    "## Two dimensional array"
   ]
  },
  {
   "cell_type": "code",
   "execution_count": 202,
   "id": "passive-vienna",
   "metadata": {
    "ExecuteTime": {
     "end_time": "2021-04-23T22:58:39.269022Z",
     "start_time": "2021-04-23T22:58:39.263436Z"
    }
   },
   "outputs": [
    {
     "name": "stdout",
     "output_type": "stream",
     "text": [
      "[0 1 2 3 4 5 6 7 8 9]\n"
     ]
    }
   ],
   "source": [
    "a = np.arange(0, 10, 1)\n",
    "print(a)"
   ]
  },
  {
   "cell_type": "code",
   "execution_count": 204,
   "id": "warming-robert",
   "metadata": {
    "ExecuteTime": {
     "end_time": "2021-04-23T22:58:59.640463Z",
     "start_time": "2021-04-23T22:58:59.633495Z"
    }
   },
   "outputs": [
    {
     "data": {
      "text/plain": [
       "2"
      ]
     },
     "execution_count": 204,
     "metadata": {},
     "output_type": "execute_result"
    }
   ],
   "source": [
    "# indexing a single element\n",
    "a[2]"
   ]
  },
  {
   "cell_type": "code",
   "execution_count": 206,
   "id": "sublime-mineral",
   "metadata": {
    "ExecuteTime": {
     "end_time": "2021-04-23T22:59:29.598712Z",
     "start_time": "2021-04-23T22:59:29.592518Z"
    }
   },
   "outputs": [
    {
     "data": {
      "text/plain": [
       "array([0, 1, 2, 3, 4])"
      ]
     },
     "execution_count": 206,
     "metadata": {},
     "output_type": "execute_result"
    }
   ],
   "source": [
    "# indexing first five elements\n",
    "a[:5]"
   ]
  },
  {
   "cell_type": "code",
   "execution_count": 208,
   "id": "vietnamese-medicaid",
   "metadata": {
    "ExecuteTime": {
     "end_time": "2021-04-23T22:59:46.247157Z",
     "start_time": "2021-04-23T22:59:46.239912Z"
    }
   },
   "outputs": [
    {
     "data": {
      "text/plain": [
       "array([5, 6, 7, 8, 9])"
      ]
     },
     "execution_count": 208,
     "metadata": {},
     "output_type": "execute_result"
    }
   ],
   "source": [
    "# indexing last five elements\n",
    "a[-5:]"
   ]
  },
  {
   "cell_type": "code",
   "execution_count": 209,
   "id": "diverse-comfort",
   "metadata": {
    "ExecuteTime": {
     "end_time": "2021-04-23T23:08:37.165016Z",
     "start_time": "2021-04-23T23:08:37.158257Z"
    }
   },
   "outputs": [
    {
     "data": {
      "text/plain": [
       "array([2, 3, 4, 5, 6, 7])"
      ]
     },
     "execution_count": 209,
     "metadata": {},
     "output_type": "execute_result"
    }
   ],
   "source": [
    "# indexing a subset\n",
    "a[2:-2]"
   ]
  },
  {
   "cell_type": "code",
   "execution_count": 215,
   "id": "endangered-vintage",
   "metadata": {
    "ExecuteTime": {
     "end_time": "2021-04-23T23:25:45.337066Z",
     "start_time": "2021-04-23T23:25:45.329870Z"
    }
   },
   "outputs": [
    {
     "data": {
      "text/plain": [
       "array([3, 5, 7, 9])"
      ]
     },
     "execution_count": 215,
     "metadata": {},
     "output_type": "execute_result"
    }
   ],
   "source": [
    "# indexing with interval of 2 from 3rd element\n",
    "a[3::2]"
   ]
  },
  {
   "cell_type": "code",
   "execution_count": 217,
   "id": "finished-brave",
   "metadata": {
    "ExecuteTime": {
     "end_time": "2021-04-23T23:26:01.010768Z",
     "start_time": "2021-04-23T23:26:01.004254Z"
    }
   },
   "outputs": [
    {
     "data": {
      "text/plain": [
       "array([7, 6, 5, 4, 3, 2, 1, 0])"
      ]
     },
     "execution_count": 217,
     "metadata": {},
     "output_type": "execute_result"
    }
   ],
   "source": [
    "# inverse array\n",
    "a[-3::-1]"
   ]
  },
  {
   "cell_type": "markdown",
   "id": "joint-think",
   "metadata": {},
   "source": [
    "## Multi-dimensional array"
   ]
  },
  {
   "cell_type": "code",
   "execution_count": 219,
   "id": "miniature-fireplace",
   "metadata": {
    "ExecuteTime": {
     "end_time": "2021-04-23T23:27:15.593715Z",
     "start_time": "2021-04-23T23:27:15.587163Z"
    }
   },
   "outputs": [
    {
     "name": "stdout",
     "output_type": "stream",
     "text": [
      "[[8 3 6 5 1 4 6 5]\n",
      " [2 6 9 6 3 7 6 7]\n",
      " [7 8 1 1 4 4 6 7]\n",
      " [3 5 8 3 1 4 3 7]]\n"
     ]
    }
   ],
   "source": [
    "a = np.random.randint(low = 1, high = 10, size = (4, 8))\n",
    "print(a)"
   ]
  },
  {
   "cell_type": "code",
   "execution_count": 221,
   "id": "neural-vanilla",
   "metadata": {
    "ExecuteTime": {
     "end_time": "2021-04-23T23:27:33.640793Z",
     "start_time": "2021-04-23T23:27:33.632730Z"
    }
   },
   "outputs": [
    {
     "data": {
      "text/plain": [
       "1"
      ]
     },
     "execution_count": 221,
     "metadata": {},
     "output_type": "execute_result"
    }
   ],
   "source": [
    "# index a single element\n",
    "a[2,3]"
   ]
  },
  {
   "cell_type": "code",
   "execution_count": 222,
   "id": "independent-retrieval",
   "metadata": {
    "ExecuteTime": {
     "end_time": "2021-04-23T23:27:39.182512Z",
     "start_time": "2021-04-23T23:27:39.176413Z"
    }
   },
   "outputs": [
    {
     "data": {
      "text/plain": [
       "array([3, 6, 8, 5])"
      ]
     },
     "execution_count": 222,
     "metadata": {},
     "output_type": "execute_result"
    }
   ],
   "source": [
    "# index a column\n",
    "a[:, 1]"
   ]
  },
  {
   "cell_type": "code",
   "execution_count": 223,
   "id": "legal-filing",
   "metadata": {
    "ExecuteTime": {
     "end_time": "2021-04-23T23:28:04.593814Z",
     "start_time": "2021-04-23T23:28:04.588387Z"
    }
   },
   "outputs": [
    {
     "data": {
      "text/plain": [
       "array([2, 6, 9, 6, 3, 7, 6, 7])"
      ]
     },
     "execution_count": 223,
     "metadata": {},
     "output_type": "execute_result"
    }
   ],
   "source": [
    "# index a rrow\n",
    "a[1,:]"
   ]
  },
  {
   "cell_type": "code",
   "execution_count": 226,
   "id": "adaptive-damage",
   "metadata": {
    "ExecuteTime": {
     "end_time": "2021-04-23T23:28:30.339816Z",
     "start_time": "2021-04-23T23:28:30.332317Z"
    }
   },
   "outputs": [
    {
     "data": {
      "text/plain": [
       "array([[6, 5],\n",
       "       [9, 6],\n",
       "       [1, 1],\n",
       "       [8, 3]])"
      ]
     },
     "execution_count": 226,
     "metadata": {},
     "output_type": "execute_result"
    }
   ],
   "source": [
    "# index multiple columns\n",
    "a[:, 2:4]"
   ]
  },
  {
   "cell_type": "code",
   "execution_count": 228,
   "id": "characteristic-beaver",
   "metadata": {
    "ExecuteTime": {
     "end_time": "2021-04-23T23:29:18.815973Z",
     "start_time": "2021-04-23T23:29:18.809990Z"
    }
   },
   "outputs": [
    {
     "data": {
      "text/plain": [
       "array([[7, 8, 1, 1, 4, 4, 6, 7],\n",
       "       [3, 5, 8, 3, 1, 4, 3, 7]])"
      ]
     },
     "execution_count": 228,
     "metadata": {},
     "output_type": "execute_result"
    }
   ],
   "source": [
    "# index multiple rows\n",
    "a[2:4, :]"
   ]
  },
  {
   "cell_type": "code",
   "execution_count": 231,
   "id": "limited-overview",
   "metadata": {
    "ExecuteTime": {
     "end_time": "2021-04-23T23:29:49.654392Z",
     "start_time": "2021-04-23T23:29:49.648162Z"
    }
   },
   "outputs": [
    {
     "data": {
      "text/plain": [
       "array([[6, 3],\n",
       "       [1, 4]])"
      ]
     },
     "execution_count": 231,
     "metadata": {},
     "output_type": "execute_result"
    }
   ],
   "source": [
    "# index multiple rows and columns\n",
    "a[1:3, 3:5]"
   ]
  },
  {
   "cell_type": "code",
   "execution_count": 236,
   "id": "developmental-thirty",
   "metadata": {
    "ExecuteTime": {
     "end_time": "2021-04-23T23:30:40.473789Z",
     "start_time": "2021-04-23T23:30:40.469108Z"
    }
   },
   "outputs": [
    {
     "name": "stdout",
     "output_type": "stream",
     "text": [
      "(3, 2)\n"
     ]
    }
   ],
   "source": [
    "# simple way of indexing the first dimension\n",
    "a = np.random.rand(4,3,2)\n",
    "print(a[0].shape)"
   ]
  },
  {
   "cell_type": "markdown",
   "id": "confirmed-terror",
   "metadata": {
    "ExecuteTime": {
     "end_time": "2021-04-23T23:40:14.045751Z",
     "start_time": "2021-04-23T23:40:14.041128Z"
    }
   },
   "source": [
    "Index subarray is a view rather than a copy.  \n",
    "Changing a subarray will result in the change of the original array."
   ]
  },
  {
   "cell_type": "code",
   "execution_count": 272,
   "id": "relevant-agency",
   "metadata": {
    "ExecuteTime": {
     "end_time": "2021-04-23T23:42:18.645074Z",
     "start_time": "2021-04-23T23:42:18.637997Z"
    }
   },
   "outputs": [
    {
     "name": "stdout",
     "output_type": "stream",
     "text": [
      "[0 1 2 3 4 5 6 7 8 9]\n"
     ]
    }
   ],
   "source": [
    "a = np.arange(0, 10, 1)\n",
    "print(a)"
   ]
  },
  {
   "cell_type": "markdown",
   "id": "dominican-option",
   "metadata": {},
   "source": [
    "## View & Copy"
   ]
  },
  {
   "cell_type": "code",
   "execution_count": 273,
   "id": "animal-progressive",
   "metadata": {
    "ExecuteTime": {
     "end_time": "2021-04-23T23:42:19.226908Z",
     "start_time": "2021-04-23T23:42:19.220590Z"
    }
   },
   "outputs": [
    {
     "name": "stdout",
     "output_type": "stream",
     "text": [
      "[2 3 4]\n",
      "[  0   1   2 999   4   5   6   7   8   9]\n"
     ]
    }
   ],
   "source": [
    "# change in subarray results in the change of the original array\n",
    "sub_a = a[2:5]\n",
    "print(sub_a)\n",
    "sub_a[1] = 999\n",
    "print(a)"
   ]
  },
  {
   "cell_type": "markdown",
   "id": "broadband-hardware",
   "metadata": {},
   "source": [
    "If the above behaviour is not what you are want, you need to explicitly create a copy."
   ]
  },
  {
   "cell_type": "code",
   "execution_count": 274,
   "id": "harmful-acting",
   "metadata": {
    "ExecuteTime": {
     "end_time": "2021-04-23T23:43:18.583135Z",
     "start_time": "2021-04-23T23:43:18.576176Z"
    }
   },
   "outputs": [
    {
     "name": "stdout",
     "output_type": "stream",
     "text": [
      "[0 1 2 3 4 5 6 7 8 9]\n"
     ]
    }
   ],
   "source": [
    "a = np.arange(0, 10, 1)\n",
    "print(a)"
   ]
  },
  {
   "cell_type": "code",
   "execution_count": 276,
   "id": "existing-accreditation",
   "metadata": {
    "ExecuteTime": {
     "end_time": "2021-04-23T23:43:34.060658Z",
     "start_time": "2021-04-23T23:43:34.052448Z"
    }
   },
   "outputs": [
    {
     "name": "stdout",
     "output_type": "stream",
     "text": [
      "[2 3 4]\n",
      "[0 1 2 3 4 5 6 7 8 9]\n"
     ]
    }
   ],
   "source": [
    "# change in subarray does not result in the change of the original array\n",
    "sub_a = a[2:5].copy()\n",
    "print(sub_a)\n",
    "sub_a[1] = 999\n",
    "print(a)"
   ]
  },
  {
   "cell_type": "markdown",
   "id": "liberal-rebecca",
   "metadata": {},
   "source": [
    "# Single array operations"
   ]
  },
  {
   "cell_type": "code",
   "execution_count": 327,
   "id": "quick-baseball",
   "metadata": {
    "ExecuteTime": {
     "end_time": "2021-04-24T00:18:54.047486Z",
     "start_time": "2021-04-24T00:18:54.042640Z"
    }
   },
   "outputs": [
    {
     "name": "stdout",
     "output_type": "stream",
     "text": [
      "[[8 8 6 8 1]\n",
      " [3 5 3 7 3]\n",
      " [9 4 6 8 8]]\n"
     ]
    }
   ],
   "source": [
    "a = np.random.randint(low = 0, high = 10, size = (3, 5))\n",
    "print(a)"
   ]
  },
  {
   "cell_type": "code",
   "execution_count": 329,
   "id": "polished-ordinary",
   "metadata": {
    "ExecuteTime": {
     "end_time": "2021-04-24T00:19:20.000721Z",
     "start_time": "2021-04-24T00:19:19.989532Z"
    }
   },
   "outputs": [
    {
     "name": "stdout",
     "output_type": "stream",
     "text": [
      "Sum:  87\n",
      "Standard deviation:  2.4000000000000004\n",
      "Mean: 5.8\n",
      "Median: 6.0\n",
      "Cumulative sum: [ 8 16 22 30 31 34 39 42 49 52 61 65 71 79 87]\n",
      "Cumulative product [          8          64         384        3072        3072        9216\n",
      "       46080      138240      967680     2903040    26127360   104509440\n",
      "   627056640  5016453120 40131624960]\n"
     ]
    }
   ],
   "source": [
    "# Statistics of all elements of an array\n",
    "print('Sum: ', np.sum(a))\n",
    "print('Standard deviation: ',np.std(a))\n",
    "print('Mean:', np.mean(a))\n",
    "print('Median:',np.median(a))\n",
    "print('Cumulative sum:', np.cumsum(a))\n",
    "print('Cumulative product', np.cumprod(a))"
   ]
  },
  {
   "cell_type": "code",
   "execution_count": 331,
   "id": "private-basin",
   "metadata": {
    "ExecuteTime": {
     "end_time": "2021-04-24T00:20:11.914075Z",
     "start_time": "2021-04-24T00:20:11.901857Z"
    }
   },
   "outputs": [
    {
     "name": "stdout",
     "output_type": "stream",
     "text": [
      "sum along columns [20 17 15 23 12]\n",
      "standard deviation along rows [2.71293199 1.6        1.78885438]\n",
      "mean along columns [6.66666667 5.66666667 5.         7.66666667 4.        ]\n",
      "Cumulative sum along columns [[ 8 16 22 30 31]\n",
      " [ 3  8 11 18 21]\n",
      " [ 9 13 19 27 35]]\n",
      "Cumulative product along columns [[    8    64   384  3072  3072]\n",
      " [    3    15    45   315   945]\n",
      " [    9    36   216  1728 13824]]\n"
     ]
    }
   ],
   "source": [
    "# Row-wise or column wise statistics\n",
    "# calculate along the given axis\n",
    "print('sum along columns', np.sum(a, axis = 0))\n",
    "print('standard deviation along rows', np.std(a, axis = 1))\n",
    "print('mean along columns', np.mean(a, axis = 0))\n",
    "print('Cumulative sum along columns', np.cumsum(a, axis = 1))\n",
    "print('Cumulative product along columns', np.cumprod(a, axis = 1))"
   ]
  },
  {
   "cell_type": "code",
   "execution_count": 256,
   "id": "statewide-cache",
   "metadata": {
    "ExecuteTime": {
     "end_time": "2021-04-23T23:38:22.172284Z",
     "start_time": "2021-04-23T23:38:22.166552Z"
    }
   },
   "outputs": [
    {
     "name": "stdout",
     "output_type": "stream",
     "text": [
      "[0 1 2 3 4 5 6 7 8 9]\n"
     ]
    }
   ],
   "source": [
    "a = np.arange(0, 10, 1)\n",
    "print(a)"
   ]
  },
  {
   "cell_type": "markdown",
   "id": "boring-piano",
   "metadata": {},
   "source": [
    "Python's built-in aggregation function is understood by numpy arrays. But the computation is much slower."
   ]
  },
  {
   "cell_type": "code",
   "execution_count": 332,
   "id": "covered-things",
   "metadata": {
    "ExecuteTime": {
     "end_time": "2021-04-24T00:22:38.717712Z",
     "start_time": "2021-04-24T00:22:38.710509Z"
    }
   },
   "outputs": [],
   "source": [
    "a = np.random.randn(100000)"
   ]
  },
  {
   "cell_type": "code",
   "execution_count": 335,
   "id": "joined-pierre",
   "metadata": {
    "ExecuteTime": {
     "end_time": "2021-04-24T00:23:29.362185Z",
     "start_time": "2021-04-24T00:23:20.356502Z"
    }
   },
   "outputs": [
    {
     "name": "stdout",
     "output_type": "stream",
     "text": [
      "45.2 µs ± 2.44 µs per loop (mean ± std. dev. of 7 runs, 10000 loops each)\n",
      "6.66 ms ± 853 µs per loop (mean ± std. dev. of 7 runs, 100 loops each)\n"
     ]
    }
   ],
   "source": [
    "%timeit np.min(a)\n",
    "%timeit min(a)"
   ]
  },
  {
   "cell_type": "code",
   "execution_count": 337,
   "id": "conscious-scholar",
   "metadata": {
    "ExecuteTime": {
     "end_time": "2021-04-24T00:24:20.079346Z",
     "start_time": "2021-04-24T00:24:09.604370Z"
    }
   },
   "outputs": [
    {
     "name": "stdout",
     "output_type": "stream",
     "text": [
      "44.4 µs ± 6.38 µs per loop (mean ± std. dev. of 7 runs, 10000 loops each)\n",
      "8.41 ms ± 424 µs per loop (mean ± std. dev. of 7 runs, 100 loops each)\n"
     ]
    }
   ],
   "source": [
    "%timeit np.sum(a)\n",
    "%timeit sum(a)"
   ]
  },
  {
   "cell_type": "markdown",
   "id": "harmful-saint",
   "metadata": {},
   "source": [
    "# Array computation"
   ]
  },
  {
   "cell_type": "markdown",
   "id": "dominant-garage",
   "metadata": {},
   "source": [
    "Numpy understands Python's built in arithmetic operators.  \n",
    "In addition, Numpy has functions for each arithmetic operators.  \n",
    "They can be used interchangably."
   ]
  },
  {
   "cell_type": "markdown",
   "id": "complete-contemporary",
   "metadata": {},
   "source": [
    "\\+  \n",
    "np.add\tAddition (e.g., 1 + 1 = 2)  \n",
    "\\-\t  \n",
    "np.subtract\tSubtraction (e.g., 3 - 2 = 1)  \n",
    "\\-\t  \n",
    "np.negative\tUnary negation (e.g., -2)  \n",
    "\\*\t  \n",
    "np.multiply\tMultiplication (e.g., 2 * 3 = 6)  \n",
    "\\/\t  \n",
    "np.divide\tDivision (e.g., 3 / 2 = 1.5)  \n",
    "\\//\n",
    "\n",
    "np.floor_divide\tFloor division (e.g., 3 // 2 = 1)  \n",
    "\\**\t  \n",
    "\n",
    "np.power\tExponentiation (e.g., 2 ** 3 = 8)  \n",
    "\\%  \n",
    "np.mod\tModulus/remainder (e.g., 9 % 4 = 1)  "
   ]
  },
  {
   "cell_type": "markdown",
   "id": "concerned-seattle",
   "metadata": {},
   "source": [
    "Unlike aggregation functions, they are computationally equivalent"
   ]
  },
  {
   "cell_type": "code",
   "execution_count": 339,
   "id": "parliamentary-packing",
   "metadata": {
    "ExecuteTime": {
     "end_time": "2021-04-24T00:26:14.572855Z",
     "start_time": "2021-04-24T00:26:06.343892Z"
    }
   },
   "outputs": [
    {
     "name": "stdout",
     "output_type": "stream",
     "text": [
      "56.4 µs ± 9.86 µs per loop (mean ± std. dev. of 7 runs, 10000 loops each)\n",
      "44.8 µs ± 4.82 µs per loop (mean ± std. dev. of 7 runs, 10000 loops each)\n"
     ]
    }
   ],
   "source": [
    "a = np.random.randn(100000)\n",
    "%timeit np.add(a, a)\n",
    "%timeit a + a"
   ]
  },
  {
   "cell_type": "code",
   "execution_count": 99,
   "id": "offensive-booking",
   "metadata": {
    "ExecuteTime": {
     "end_time": "2021-04-23T22:15:48.709135Z",
     "start_time": "2021-04-23T22:15:48.703914Z"
    }
   },
   "outputs": [
    {
     "name": "stdout",
     "output_type": "stream",
     "text": [
      "[[ 8  0 12]\n",
      " [ 4  7  7]\n",
      " [ 9  8  9]]\n"
     ]
    }
   ],
   "source": [
    "# elementwise summation and substraction\n",
    "c = a+b\n",
    "print(c)"
   ]
  },
  {
   "cell_type": "code",
   "execution_count": 100,
   "id": "boolean-intent",
   "metadata": {
    "ExecuteTime": {
     "end_time": "2021-04-23T22:15:48.882782Z",
     "start_time": "2021-04-23T22:15:48.875175Z"
    }
   },
   "outputs": [
    {
     "name": "stdout",
     "output_type": "stream",
     "text": [
      "[[15  0 32]\n",
      " [ 3 10 12]\n",
      " [14 12 14]]\n"
     ]
    }
   ],
   "source": [
    "# elementwise multiplication\n",
    "c = a*b\n",
    "print(c)"
   ]
  },
  {
   "cell_type": "code",
   "execution_count": 101,
   "id": "wooden-holly",
   "metadata": {
    "ExecuteTime": {
     "end_time": "2021-04-23T22:15:50.193130Z",
     "start_time": "2021-04-23T22:15:50.187559Z"
    }
   },
   "outputs": [
    {
     "name": "stdout",
     "output_type": "stream",
     "text": [
      "[[0.6               nan 0.5       ]\n",
      " [0.33333333 2.5        0.75      ]\n",
      " [3.5        0.33333333 3.5       ]]\n"
     ]
    },
    {
     "name": "stderr",
     "output_type": "stream",
     "text": [
      "<ipython-input-101-c304c8a51b80>:2: RuntimeWarning: invalid value encountered in true_divide\n",
      "  c = a/b\n"
     ]
    }
   ],
   "source": [
    "# elementwise division\n",
    "c = a/b\n",
    "print(c)"
   ]
  },
  {
   "cell_type": "markdown",
   "id": "false-joint",
   "metadata": {},
   "source": [
    "##### Broadcasting"
   ]
  },
  {
   "cell_type": "code",
   "execution_count": 316,
   "id": "ambient-religious",
   "metadata": {
    "ExecuteTime": {
     "end_time": "2021-04-24T00:12:22.246527Z",
     "start_time": "2021-04-24T00:12:22.239315Z"
    }
   },
   "outputs": [
    {
     "name": "stdout",
     "output_type": "stream",
     "text": [
      "[[0 8 1]\n",
      " [2 4 4]\n",
      " [1 0 2]\n",
      " [1 7 5]]\n",
      "[[8 4 4]]\n"
     ]
    }
   ],
   "source": [
    "a = np.random.randint(low = 0, high = 9, size = (4,3))\n",
    "b = np.random.randint(low = 0, high = 9, size = (1,3))\n",
    "print(a)\n",
    "print(b)"
   ]
  },
  {
   "cell_type": "code",
   "execution_count": 317,
   "id": "acoustic-roads",
   "metadata": {
    "ExecuteTime": {
     "end_time": "2021-04-24T00:12:26.883212Z",
     "start_time": "2021-04-24T00:12:26.875483Z"
    }
   },
   "outputs": [
    {
     "data": {
      "text/plain": [
       "array([[-8,  4, -3],\n",
       "       [-6,  0,  0],\n",
       "       [-7, -4, -2],\n",
       "       [-7,  3,  1]])"
      ]
     },
     "execution_count": 317,
     "metadata": {},
     "output_type": "execute_result"
    }
   ],
   "source": [
    "a - b"
   ]
  },
  {
   "cell_type": "code",
   "execution_count": 318,
   "id": "acknowledged-spanish",
   "metadata": {
    "ExecuteTime": {
     "end_time": "2021-04-24T00:12:29.991667Z",
     "start_time": "2021-04-24T00:12:29.983886Z"
    }
   },
   "outputs": [
    {
     "data": {
      "text/plain": [
       "array([[ 0, 32,  4],\n",
       "       [16, 16, 16],\n",
       "       [ 8,  0,  8],\n",
       "       [ 8, 28, 20]])"
      ]
     },
     "execution_count": 318,
     "metadata": {},
     "output_type": "execute_result"
    }
   ],
   "source": [
    "a * b"
   ]
  },
  {
   "cell_type": "markdown",
   "id": "hawaiian-cartridge",
   "metadata": {},
   "source": [
    "# Trigonometry"
   ]
  },
  {
   "cell_type": "code",
   "execution_count": 322,
   "id": "exclusive-yeast",
   "metadata": {
    "ExecuteTime": {
     "end_time": "2021-04-24T00:13:06.926812Z",
     "start_time": "2021-04-24T00:13:06.922772Z"
    }
   },
   "outputs": [],
   "source": [
    "theta = np.linspace(0, np.pi, 3)"
   ]
  },
  {
   "cell_type": "code",
   "execution_count": 321,
   "id": "former-product",
   "metadata": {
    "ExecuteTime": {
     "end_time": "2021-04-24T00:13:02.921893Z",
     "start_time": "2021-04-24T00:13:02.911609Z"
    }
   },
   "outputs": [
    {
     "name": "stdout",
     "output_type": "stream",
     "text": [
      "theta      =  [0.         1.57079633 3.14159265]\n",
      "sin(theta) =  [0.0000000e+00 1.0000000e+00 1.2246468e-16]\n",
      "cos(theta) =  [ 1.000000e+00  6.123234e-17 -1.000000e+00]\n",
      "tan(theta) =  [ 0.00000000e+00  1.63312394e+16 -1.22464680e-16]\n"
     ]
    }
   ],
   "source": [
    "print(\"theta      = \", theta)\n",
    "print(\"sin(theta) = \", np.sin(theta))\n",
    "print(\"cos(theta) = \", np.cos(theta))\n",
    "print(\"tan(theta) = \", np.tan(theta))"
   ]
  },
  {
   "cell_type": "code",
   "execution_count": 323,
   "id": "collectible-lounge",
   "metadata": {
    "ExecuteTime": {
     "end_time": "2021-04-24T00:13:29.615471Z",
     "start_time": "2021-04-24T00:13:29.606152Z"
    }
   },
   "outputs": [
    {
     "name": "stdout",
     "output_type": "stream",
     "text": [
      "x         =  [-1, 0, 1]\n",
      "arcsin(x) =  [-1.57079633  0.          1.57079633]\n",
      "arccos(x) =  [3.14159265 1.57079633 0.        ]\n",
      "arctan(x) =  [-0.78539816  0.          0.78539816]\n"
     ]
    }
   ],
   "source": [
    "x = [-1, 0, 1]\n",
    "print(\"x         = \", x)\n",
    "print(\"arcsin(x) = \", np.arcsin(x))\n",
    "print(\"arccos(x) = \", np.arccos(x))\n",
    "print(\"arctan(x) = \", np.arctan(x))"
   ]
  },
  {
   "cell_type": "markdown",
   "id": "refined-delta",
   "metadata": {},
   "source": [
    "# Logarithm, Exponents"
   ]
  },
  {
   "cell_type": "code",
   "execution_count": 326,
   "id": "sapphire-wellington",
   "metadata": {
    "ExecuteTime": {
     "end_time": "2021-04-24T00:14:25.105629Z",
     "start_time": "2021-04-24T00:14:25.094412Z"
    }
   },
   "outputs": [
    {
     "name": "stdout",
     "output_type": "stream",
     "text": [
      "x        = [1, 2, 4, 10]\n",
      "ln(x)    = [0.         0.69314718 1.38629436 2.30258509]\n",
      "log2(x)  = [0.         1.         2.         3.32192809]\n",
      "log10(x) = [0.         0.30103    0.60205999 1.        ]\n"
     ]
    }
   ],
   "source": [
    "x = [1, 2, 4, 10]\n",
    "print(\"x        =\", x)\n",
    "print(\"ln(x)    =\", np.log(x))\n",
    "print(\"log2(x)  =\", np.log2(x))\n",
    "print(\"log10(x) =\", np.log10(x))"
   ]
  },
  {
   "cell_type": "code",
   "execution_count": 325,
   "id": "answering-energy",
   "metadata": {
    "ExecuteTime": {
     "end_time": "2021-04-24T00:14:03.797136Z",
     "start_time": "2021-04-24T00:14:03.787022Z"
    }
   },
   "outputs": [
    {
     "name": "stdout",
     "output_type": "stream",
     "text": [
      "x     = [1, 2, 3]\n",
      "e^x   = [ 2.71828183  7.3890561  20.08553692]\n",
      "2^x   = [2. 4. 8.]\n",
      "3^x   = [ 3  9 27]\n"
     ]
    }
   ],
   "source": [
    "x = [1, 2, 3]\n",
    "print(\"x     =\", x)\n",
    "print(\"e^x   =\", np.exp(x))\n",
    "print(\"2^x   =\", np.exp2(x))\n",
    "print(\"3^x   =\", np.power(3, x))"
   ]
  },
  {
   "cell_type": "markdown",
   "id": "opened-diving",
   "metadata": {},
   "source": [
    "# Comparison operation"
   ]
  },
  {
   "cell_type": "markdown",
   "id": "existing-custody",
   "metadata": {},
   "source": [
    "## Comparison operation"
   ]
  },
  {
   "cell_type": "code",
   "execution_count": 359,
   "id": "stainless-trunk",
   "metadata": {
    "ExecuteTime": {
     "end_time": "2021-04-24T00:41:53.318981Z",
     "start_time": "2021-04-24T00:41:53.313288Z"
    }
   },
   "outputs": [
    {
     "data": {
      "text/plain": [
       "array([False, False, False, False, False, False,  True,  True,  True])"
      ]
     },
     "execution_count": 359,
     "metadata": {},
     "output_type": "execute_result"
    }
   ],
   "source": [
    "x = np.arange(0, 9, 1)\n",
    "x > 5"
   ]
  },
  {
   "cell_type": "code",
   "execution_count": 360,
   "id": "involved-alpha",
   "metadata": {
    "ExecuteTime": {
     "end_time": "2021-04-24T00:41:53.909467Z",
     "start_time": "2021-04-24T00:41:53.901257Z"
    }
   },
   "outputs": [
    {
     "data": {
      "text/plain": [
       "array([False, False, False, False, False,  True,  True,  True,  True])"
      ]
     },
     "execution_count": 360,
     "metadata": {},
     "output_type": "execute_result"
    }
   ],
   "source": [
    "x = np.arange(0, 9, 1)\n",
    "x >= 5"
   ]
  },
  {
   "cell_type": "code",
   "execution_count": 351,
   "id": "eastern-synthetic",
   "metadata": {
    "ExecuteTime": {
     "end_time": "2021-04-24T00:38:25.494303Z",
     "start_time": "2021-04-24T00:38:25.489045Z"
    }
   },
   "outputs": [
    {
     "data": {
      "text/plain": [
       "array([ True,  True,  True,  True,  True, False,  True,  True,  True])"
      ]
     },
     "execution_count": 351,
     "metadata": {},
     "output_type": "execute_result"
    }
   ],
   "source": [
    "x = np.arange(0, 9, 1)\n",
    "x != 5"
   ]
  },
  {
   "cell_type": "code",
   "execution_count": 349,
   "id": "instructional-currency",
   "metadata": {
    "ExecuteTime": {
     "end_time": "2021-04-24T00:37:56.942662Z",
     "start_time": "2021-04-24T00:37:56.937162Z"
    }
   },
   "outputs": [
    {
     "data": {
      "text/plain": [
       "array([False, False, False, False, False,  True, False, False, False])"
      ]
     },
     "execution_count": 349,
     "metadata": {},
     "output_type": "execute_result"
    }
   ],
   "source": [
    "x = np.arange(0, 9, 1)\n",
    "x == 5"
   ]
  },
  {
   "cell_type": "code",
   "execution_count": 361,
   "id": "cellular-probe",
   "metadata": {
    "ExecuteTime": {
     "end_time": "2021-04-24T00:42:11.129482Z",
     "start_time": "2021-04-24T00:42:11.121695Z"
    }
   },
   "outputs": [
    {
     "data": {
      "text/plain": [
       "True"
      ]
     },
     "execution_count": 361,
     "metadata": {},
     "output_type": "execute_result"
    }
   ],
   "source": [
    "# are there any values greater than 5\n",
    "x = np.arange(0, 9, 1)\n",
    "np.any(x > 5)"
   ]
  },
  {
   "cell_type": "code",
   "execution_count": 362,
   "id": "younger-slovenia",
   "metadata": {
    "ExecuteTime": {
     "end_time": "2021-04-24T00:42:27.866147Z",
     "start_time": "2021-04-24T00:42:27.861495Z"
    }
   },
   "outputs": [
    {
     "data": {
      "text/plain": [
       "False"
      ]
     },
     "execution_count": 362,
     "metadata": {},
     "output_type": "execute_result"
    }
   ],
   "source": [
    "# are all values greater than 5\n",
    "np.all(x > 0.5)"
   ]
  },
  {
   "cell_type": "code",
   "execution_count": 352,
   "id": "available-apparatus",
   "metadata": {
    "ExecuteTime": {
     "end_time": "2021-04-24T00:39:55.648972Z",
     "start_time": "2021-04-24T00:39:55.643323Z"
    }
   },
   "outputs": [],
   "source": [
    "a = np.random.random(100000)\n",
    "a = a <= 0.5"
   ]
  },
  {
   "cell_type": "code",
   "execution_count": 353,
   "id": "reduced-variance",
   "metadata": {
    "ExecuteTime": {
     "end_time": "2021-04-24T00:40:38.123820Z",
     "start_time": "2021-04-24T00:40:21.008375Z"
    }
   },
   "outputs": [
    {
     "name": "stdout",
     "output_type": "stream",
     "text": [
      "7.43 µs ± 1.31 µs per loop (mean ± std. dev. of 7 runs, 100000 loops each)\n",
      "112 µs ± 4.47 µs per loop (mean ± std. dev. of 7 runs, 10000 loops each)\n",
      "269 ms ± 84.7 ms per loop (mean ± std. dev. of 7 runs, 1 loop each)\n"
     ]
    }
   ],
   "source": [
    "# counting True values\n",
    "%timeit np.count_nonzero(a)\n",
    "%timeit np.sum(a)\n",
    "%timeit sum(a)"
   ]
  },
  {
   "cell_type": "code",
   "execution_count": 354,
   "id": "linear-apparel",
   "metadata": {
    "ExecuteTime": {
     "end_time": "2021-04-24T00:40:38.395089Z",
     "start_time": "2021-04-24T00:40:38.168281Z"
    }
   },
   "outputs": [
    {
     "name": "stdout",
     "output_type": "stream",
     "text": [
      "49934\n",
      "49934\n",
      "49934\n"
     ]
    }
   ],
   "source": [
    "print(np.count_nonzero(a))\n",
    "print(np.sum(a))\n",
    "print(sum(a))"
   ]
  },
  {
   "cell_type": "markdown",
   "id": "acceptable-tumor",
   "metadata": {},
   "source": [
    "## Boolean masking"
   ]
  },
  {
   "cell_type": "code",
   "execution_count": 367,
   "id": "lesser-increase",
   "metadata": {
    "ExecuteTime": {
     "end_time": "2021-04-24T00:44:09.828376Z",
     "start_time": "2021-04-24T00:44:09.821482Z"
    }
   },
   "outputs": [
    {
     "name": "stdout",
     "output_type": "stream",
     "text": [
      "[[ 0.43903932 -1.71353799  1.39738867 -0.92849233]\n",
      " [-0.49209912 -0.49837736  0.53365281 -0.07040866]\n",
      " [ 2.42097781  1.70086237 -0.48937059 -1.79344543]\n",
      " [-0.23220884  0.50665781  0.72812805 -0.14770891]\n",
      " [ 0.03210276 -0.3834076   0.11671139 -0.62691052]]\n"
     ]
    }
   ],
   "source": [
    "a = np.random.randn(5,4)\n",
    "print(a)"
   ]
  },
  {
   "cell_type": "code",
   "execution_count": 368,
   "id": "closed-setting",
   "metadata": {
    "ExecuteTime": {
     "end_time": "2021-04-24T00:44:17.496344Z",
     "start_time": "2021-04-24T00:44:17.489087Z"
    }
   },
   "outputs": [
    {
     "data": {
      "text/plain": [
       "array([[ True, False,  True, False],\n",
       "       [False, False,  True, False],\n",
       "       [ True,  True, False, False],\n",
       "       [False,  True,  True, False],\n",
       "       [ True, False,  True, False]])"
      ]
     },
     "execution_count": 368,
     "metadata": {},
     "output_type": "execute_result"
    }
   ],
   "source": [
    "a > 0"
   ]
  },
  {
   "cell_type": "code",
   "execution_count": 369,
   "id": "developing-relative",
   "metadata": {
    "ExecuteTime": {
     "end_time": "2021-04-24T00:44:21.867677Z",
     "start_time": "2021-04-24T00:44:21.859680Z"
    }
   },
   "outputs": [
    {
     "data": {
      "text/plain": [
       "array([0.43903932, 1.39738867, 0.53365281, 2.42097781, 1.70086237,\n",
       "       0.50665781, 0.72812805, 0.03210276, 0.11671139])"
      ]
     },
     "execution_count": 369,
     "metadata": {},
     "output_type": "execute_result"
    }
   ],
   "source": [
    "a[a>0]"
   ]
  },
  {
   "cell_type": "markdown",
   "id": "social-index",
   "metadata": {},
   "source": [
    "# Useful functions"
   ]
  },
  {
   "cell_type": "code",
   "execution_count": 6,
   "id": "equal-identifier",
   "metadata": {
    "ExecuteTime": {
     "end_time": "2021-04-25T18:07:40.962336Z",
     "start_time": "2021-04-25T18:07:40.955845Z"
    }
   },
   "outputs": [
    {
     "name": "stdout",
     "output_type": "stream",
     "text": [
      "(array([1, 2, 3, 4, 5, 6, 7, 8]), array([1294, 1259, 1212, 1252, 1267, 1250, 1252, 1214]))\n"
     ]
    }
   ],
   "source": [
    "#count elements\n",
    "a = np.random.randint(low = 1, high = 9, size = 10000)\n",
    "print(np.unique(a, return_counts=True))"
   ]
  },
  {
   "cell_type": "code",
   "execution_count": 5,
   "id": "upset-appeal",
   "metadata": {
    "ExecuteTime": {
     "end_time": "2021-04-25T18:07:22.510559Z",
     "start_time": "2021-04-25T18:07:22.504741Z"
    }
   },
   "outputs": [
    {
     "data": {
      "text/plain": [
       "array([2, 5, 2, ..., 1, 6, 5])"
      ]
     },
     "execution_count": 5,
     "metadata": {},
     "output_type": "execute_result"
    }
   ],
   "source": [
    "a"
   ]
  },
  {
   "cell_type": "code",
   "execution_count": null,
   "id": "labeled-sustainability",
   "metadata": {},
   "outputs": [],
   "source": []
  }
 ],
 "metadata": {
  "kernelspec": {
   "display_name": "Python 3",
   "language": "python",
   "name": "python3"
  },
  "language_info": {
   "codemirror_mode": {
    "name": "ipython",
    "version": 3
   },
   "file_extension": ".py",
   "mimetype": "text/x-python",
   "name": "python",
   "nbconvert_exporter": "python",
   "pygments_lexer": "ipython3",
   "version": "3.8.6"
  },
  "toc": {
   "base_numbering": 1,
   "nav_menu": {},
   "number_sections": true,
   "sideBar": true,
   "skip_h1_title": false,
   "title_cell": "Table of Contents",
   "title_sidebar": "Contents",
   "toc_cell": false,
   "toc_position": {},
   "toc_section_display": true,
   "toc_window_display": true
  },
  "varInspector": {
   "cols": {
    "lenName": 16,
    "lenType": 16,
    "lenVar": 40
   },
   "kernels_config": {
    "python": {
     "delete_cmd_postfix": "",
     "delete_cmd_prefix": "del ",
     "library": "var_list.py",
     "varRefreshCmd": "print(var_dic_list())"
    },
    "r": {
     "delete_cmd_postfix": ") ",
     "delete_cmd_prefix": "rm(",
     "library": "var_list.r",
     "varRefreshCmd": "cat(var_dic_list()) "
    }
   },
   "types_to_exclude": [
    "module",
    "function",
    "builtin_function_or_method",
    "instance",
    "_Feature"
   ],
   "window_display": false
  }
 },
 "nbformat": 4,
 "nbformat_minor": 5
}
