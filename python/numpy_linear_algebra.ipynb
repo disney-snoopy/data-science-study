{
 "cells": [
  {
   "cell_type": "code",
   "execution_count": 1,
   "id": "silver-scheduling",
   "metadata": {
    "ExecuteTime": {
     "end_time": "2021-04-24T01:31:10.839484Z",
     "start_time": "2021-04-24T01:31:10.835202Z"
    }
   },
   "outputs": [],
   "source": [
    "import numpy as np"
   ]
  },
  {
   "cell_type": "markdown",
   "id": "adverse-ultimate",
   "metadata": {},
   "source": [
    "Frequently in Numpy, a matrix or vector computation can be done in multiple ways.  \n",
    "Sometimes they have a meaningful difference in computational efficiency.  \n",
    "Therefore, when you are iteratively computing large arrays, it can be helpful to check their relative efficiency with toy arrays."
   ]
  },
  {
   "cell_type": "markdown",
   "id": "conceptual-bacteria",
   "metadata": {},
   "source": [
    "# Vector & Matrix"
   ]
  },
  {
   "cell_type": "code",
   "execution_count": 33,
   "id": "found-voltage",
   "metadata": {
    "ExecuteTime": {
     "end_time": "2021-04-24T01:41:10.404420Z",
     "start_time": "2021-04-24T01:41:10.398295Z"
    }
   },
   "outputs": [
    {
     "name": "stdout",
     "output_type": "stream",
     "text": [
      "(4,)\n"
     ]
    }
   ],
   "source": [
    "# 1 dimensional array can be interpreted as both a column and row vector as required.\n",
    "a = np.array([1,2,3,4])\n",
    "print(a.shape)"
   ]
  },
  {
   "cell_type": "code",
   "execution_count": 36,
   "id": "boxed-labor",
   "metadata": {
    "ExecuteTime": {
     "end_time": "2021-04-24T01:41:37.202568Z",
     "start_time": "2021-04-24T01:41:37.197284Z"
    }
   },
   "outputs": [
    {
     "name": "stdout",
     "output_type": "stream",
     "text": [
      "(1, 3)\n",
      "[[1 2 3]]\n"
     ]
    }
   ],
   "source": [
    "# explicit row vector\n",
    "a = np.array([[1,2,3]])\n",
    "print(a.shape)\n",
    "print(a)"
   ]
  },
  {
   "cell_type": "code",
   "execution_count": 37,
   "id": "transsexual-plymouth",
   "metadata": {
    "ExecuteTime": {
     "end_time": "2021-04-24T01:42:04.151451Z",
     "start_time": "2021-04-24T01:42:04.145092Z"
    }
   },
   "outputs": [
    {
     "name": "stdout",
     "output_type": "stream",
     "text": [
      "(3, 1)\n",
      "[[1]\n",
      " [2]\n",
      " [3]]\n"
     ]
    }
   ],
   "source": [
    "# explicit column vector\n",
    "a = np.array([[1,2,3]]).T\n",
    "print(a.shape)\n",
    "print(a)"
   ]
  },
  {
   "cell_type": "code",
   "execution_count": 39,
   "id": "sonic-polish",
   "metadata": {
    "ExecuteTime": {
     "end_time": "2021-04-24T01:43:36.473081Z",
     "start_time": "2021-04-24T01:43:36.466951Z"
    }
   },
   "outputs": [
    {
     "name": "stdout",
     "output_type": "stream",
     "text": [
      "[[1 2 3]\n",
      " [4 5 6]\n",
      " [7 8 9]]\n"
     ]
    }
   ],
   "source": [
    "# two dimensional matrix\n",
    "a = np.array([[1,2,3],\n",
    "              [4,5,6],\n",
    "              [7,8,9]])\n",
    "print(a)"
   ]
  },
  {
   "cell_type": "code",
   "execution_count": 42,
   "id": "sapphire-smooth",
   "metadata": {
    "ExecuteTime": {
     "end_time": "2021-04-24T01:44:19.188092Z",
     "start_time": "2021-04-24T01:44:19.182553Z"
    }
   },
   "outputs": [
    {
     "name": "stdout",
     "output_type": "stream",
     "text": [
      "[[1 2 3]\n",
      " [4 5 6]\n",
      " [7 8 9]]\n"
     ]
    }
   ],
   "source": [
    "# above matrix can be more conveniently created\n",
    "a = np.arange(1, 10, 1).reshape(3,3)\n",
    "print(a)"
   ]
  },
  {
   "cell_type": "markdown",
   "id": "shaped-canyon",
   "metadata": {},
   "source": [
    "# Product"
   ]
  },
  {
   "cell_type": "code",
   "execution_count": 50,
   "id": "printable-request",
   "metadata": {
    "ExecuteTime": {
     "end_time": "2021-04-24T01:46:28.929874Z",
     "start_time": "2021-04-24T01:46:28.921289Z"
    }
   },
   "outputs": [
    {
     "name": "stdout",
     "output_type": "stream",
     "text": [
      "[[14]] [[14]] [[14]]\n"
     ]
    }
   ],
   "source": [
    "# inner product or dot product\n",
    "# inner product can be calculated in multiple ways\n",
    "a = np.array([[1,2,3]])\n",
    "b = np.array([[1,2,3]]).T\n",
    "\n",
    "c = a@b\n",
    "d = np.dot(a,b)\n",
    "e = np.matmul(a,b)\n",
    "\n",
    "print(c, d, e)"
   ]
  },
  {
   "cell_type": "code",
   "execution_count": 51,
   "id": "expired-military",
   "metadata": {
    "ExecuteTime": {
     "end_time": "2021-04-24T01:47:27.661999Z",
     "start_time": "2021-04-24T01:46:57.476393Z"
    }
   },
   "outputs": [
    {
     "name": "stdout",
     "output_type": "stream",
     "text": [
      "1.08 µs ± 23.1 ns per loop (mean ± std. dev. of 7 runs, 1000000 loops each)\n",
      "1.55 µs ± 133 ns per loop (mean ± std. dev. of 7 runs, 1000000 loops each)\n",
      "1.09 µs ± 42.8 ns per loop (mean ± std. dev. of 7 runs, 1000000 loops each)\n"
     ]
    }
   ],
   "source": [
    "# @ operator and matmul function are computationally more efficient\n",
    "%timeit a@b\n",
    "%timeit np.dot(a,b)\n",
    "%timeit np.matmul(a,b)"
   ]
  },
  {
   "cell_type": "code",
   "execution_count": 63,
   "id": "taken-march",
   "metadata": {
    "ExecuteTime": {
     "end_time": "2021-04-24T01:51:37.287204Z",
     "start_time": "2021-04-24T01:51:37.280739Z"
    }
   },
   "outputs": [
    {
     "name": "stdout",
     "output_type": "stream",
     "text": [
      "[[1 2 3]\n",
      " [2 4 6]\n",
      " [3 6 9]]\n",
      "[[1 2 3]\n",
      " [2 4 6]\n",
      " [3 6 9]]\n",
      "[[1 2 3]\n",
      " [2 4 6]\n",
      " [3 6 9]]\n"
     ]
    }
   ],
   "source": [
    "# outer product\n",
    "# outer product can be computed with broadcasting or a designated function\n",
    "print(a*b)\n",
    "print(np.multiply(a,b))\n",
    "print(np.outer(a,b))"
   ]
  },
  {
   "cell_type": "code",
   "execution_count": 66,
   "id": "proprietary-florist",
   "metadata": {
    "ExecuteTime": {
     "end_time": "2021-04-24T01:56:55.698582Z",
     "start_time": "2021-04-24T01:56:29.773729Z"
    }
   },
   "outputs": [
    {
     "name": "stdout",
     "output_type": "stream",
     "text": [
      "1.38 µs ± 139 ns per loop (mean ± std. dev. of 7 runs, 1000000 loops each)\n",
      "1.38 µs ± 52.5 ns per loop (mean ± std. dev. of 7 runs, 1000000 loops each)\n",
      "4.25 µs ± 303 ns per loop (mean ± std. dev. of 7 runs, 100000 loops each)\n"
     ]
    }
   ],
   "source": [
    "# The Python built-in operator multiply function are much more efficient than outer function\n",
    "%timeit a*b\n",
    "%timeit np.multiply(a,b)\n",
    "%timeit np.outer(a,b)"
   ]
  },
  {
   "cell_type": "code",
   "execution_count": 70,
   "id": "retained-nicholas",
   "metadata": {
    "ExecuteTime": {
     "end_time": "2021-04-24T01:57:58.541326Z",
     "start_time": "2021-04-24T01:57:58.537306Z"
    }
   },
   "outputs": [],
   "source": [
    "# matrix multiplication\n",
    "a = np.arange(1, 21).reshape(5,4)\n",
    "b = np.arange(1,9).reshape(4,2)"
   ]
  },
  {
   "cell_type": "code",
   "execution_count": 71,
   "id": "shaped-surge",
   "metadata": {
    "ExecuteTime": {
     "end_time": "2021-04-24T01:58:12.521645Z",
     "start_time": "2021-04-24T01:58:12.514083Z"
    }
   },
   "outputs": [
    {
     "name": "stdout",
     "output_type": "stream",
     "text": [
      "[[ 50  60]\n",
      " [114 140]\n",
      " [178 220]\n",
      " [242 300]\n",
      " [306 380]]\n",
      "[[ 50  60]\n",
      " [114 140]\n",
      " [178 220]\n",
      " [242 300]\n",
      " [306 380]]\n"
     ]
    }
   ],
   "source": [
    "print(a@b)\n",
    "print(np.matmul(a,b))"
   ]
  },
  {
   "cell_type": "code",
   "execution_count": 73,
   "id": "lonely-assessment",
   "metadata": {
    "ExecuteTime": {
     "end_time": "2021-04-24T01:59:26.039545Z",
     "start_time": "2021-04-24T01:59:06.745733Z"
    }
   },
   "outputs": [
    {
     "name": "stdout",
     "output_type": "stream",
     "text": [
      "1.15 µs ± 51.6 ns per loop (mean ± std. dev. of 7 runs, 1000000 loops each)\n",
      "1.17 µs ± 128 ns per loop (mean ± std. dev. of 7 runs, 1000000 loops each)\n"
     ]
    }
   ],
   "source": [
    "# both methods are computationally equivalent\n",
    "%timeit a@b\n",
    "%timeit np.matmul(a,b)"
   ]
  },
  {
   "cell_type": "markdown",
   "id": "educational-reggae",
   "metadata": {},
   "source": [
    "# Trace"
   ]
  },
  {
   "cell_type": "markdown",
   "id": "sized-christian",
   "metadata": {},
   "source": [
    "- The trace of a square matrix A, denoted tr(A),is defined to be the sum of elements on the main diagonal (from the upper left to the lower right) of A.\n",
    "- The trace of a matrix is the sum of its (complex) eigenvalues (counted with multiplicities), and it is invariant with respect to a change of basis. This characterization can be used to define the trace of a linear  operator in general. \n",
    "- The trace is only defined for a square matrix (n × n).\n",
    "\n"
   ]
  },
  {
   "cell_type": "code",
   "execution_count": 80,
   "id": "lesbian-population",
   "metadata": {
    "ExecuteTime": {
     "end_time": "2021-04-24T02:04:02.358174Z",
     "start_time": "2021-04-24T02:04:02.351144Z"
    }
   },
   "outputs": [
    {
     "name": "stdout",
     "output_type": "stream",
     "text": [
      "Diagonal matrix\n",
      "[[ 1  2  3  4]\n",
      " [ 5  6  7  8]\n",
      " [ 9 10 11 12]\n",
      " [13 14 15 16]\n",
      " [17 18 19 20]]\n",
      "tr(a) =  34\n"
     ]
    }
   ],
   "source": [
    "print('Diagonal matrix')\n",
    "print(a)\n",
    "print('tr(a) = ',np.trace(a))"
   ]
  },
  {
   "cell_type": "code",
   "execution_count": 81,
   "id": "distant-democracy",
   "metadata": {
    "ExecuteTime": {
     "end_time": "2021-04-24T02:05:17.288920Z",
     "start_time": "2021-04-24T02:05:17.280223Z"
    }
   },
   "outputs": [
    {
     "name": "stdout",
     "output_type": "stream",
     "text": [
      "Non-diagonal matrix\n",
      "[[1 2]\n",
      " [3 4]\n",
      " [5 6]\n",
      " [7 8]]\n",
      "tr(b) =  5\n"
     ]
    }
   ],
   "source": [
    "# for non-diagonal matrix, the matrix truncated to a square matrix for trace calculation\n",
    "print('Non-diagonal matrix')\n",
    "print(b)\n",
    "print('tr(b) = ',np.trace(b))"
   ]
  },
  {
   "cell_type": "markdown",
   "id": "special-solid",
   "metadata": {},
   "source": [
    "# Norm"
   ]
  },
  {
   "cell_type": "markdown",
   "id": "biblical-purpose",
   "metadata": {},
   "source": [
    "A norm of a vector $\\parallel x \\parallel$ is informally a measure of the “length” of the vector.  \n",
    "\n",
    "$l2$ and $l1$ norm are commonly used.  \n",
    "$l2$ norm,\n",
    "$$\n",
    "{\\parallel x \\parallel}_2 = \\sqrt{\\sum_{i=1}^{n} {x_i}^2}\n",
    "$$\n",
    "$l1$ norm,\n",
    "$$\n",
    "{\\parallel x \\parallel}_1 = {\\sum_{i=1}^{n} {\\mid x_i \\mid}}\n",
    "$$\n",
    "\n",
    "More generally, $l2$ and $l1$ norm belong to the family of $l_p$ norms.\n",
    "$$\n",
    "{\\parallel x \\parallel}_p = \\left( {\\sum_{i=1}^{n} {\\mid x_i \\mid}}^p \\right) ^{1/p}\n",
    "$$"
   ]
  },
  {
   "cell_type": "code",
   "execution_count": 99,
   "id": "treated-bristol",
   "metadata": {
    "ExecuteTime": {
     "end_time": "2021-04-24T02:42:03.393975Z",
     "start_time": "2021-04-24T02:42:03.387316Z"
    }
   },
   "outputs": [
    {
     "name": "stdout",
     "output_type": "stream",
     "text": [
      "[[1 2 3]\n",
      " [4 5 6]\n",
      " [7 8 9]]\n"
     ]
    }
   ],
   "source": [
    "a = np.arange(1, 10).reshape(3,3)\n",
    "print(a)"
   ]
  },
  {
   "cell_type": "code",
   "execution_count": 100,
   "id": "approved-sailing",
   "metadata": {
    "ExecuteTime": {
     "end_time": "2021-04-24T02:42:03.871288Z",
     "start_time": "2021-04-24T02:42:03.863010Z"
    }
   },
   "outputs": [
    {
     "name": "stdout",
     "output_type": "stream",
     "text": [
      "l2 norm 16.84810335261421\n",
      "l1 norm 18.0\n"
     ]
    }
   ],
   "source": [
    "# l1 & l2 norm\n",
    "l2 = np.linalg.norm(a, ord = 2)\n",
    "l1 = np.linalg.norm(a, ord = 1)\n",
    "print('l2 norm', l2)\n",
    "print('l1 norm', l1)"
   ]
  },
  {
   "cell_type": "markdown",
   "id": "polar-eating",
   "metadata": {},
   "source": [
    "# Matrix rank"
   ]
  },
  {
   "cell_type": "markdown",
   "id": "statewide-marriage",
   "metadata": {},
   "source": [
    "A set of vectors ${x1, x2, . . . xn} \\in R$ is said to be **linearly independent** if no vector can be represented as a linear combination of the remaining vectors. Conversely, if one vector belonging to the set can be represented as a linear combination of the remaining vectors, then the vectors are said to be linearly dependent.  \n",
    "If \n",
    "$$\n",
    "x_n = \\sum_{i=1}^{n-1} \\alpha_i x_i\n",
    "$$\n",
    "for some scalar values $\\alpha_1, . . . , \\alpha_{n−1} \\in R$, then we say that the vectors $x_1, . . . , x_n$ are linearly dependent; otherwise, the vectors are linearly independent.\n",
    "\n",
    "For a matrix, column rank is equal to row rank and both are simply referred as the rank of a matrix."
   ]
  },
  {
   "cell_type": "code",
   "execution_count": 102,
   "id": "square-application",
   "metadata": {
    "ExecuteTime": {
     "end_time": "2021-04-24T02:42:33.327633Z",
     "start_time": "2021-04-24T02:42:33.320903Z"
    }
   },
   "outputs": [
    {
     "data": {
      "text/plain": [
       "array([[1, 2, 3],\n",
       "       [4, 5, 6],\n",
       "       [7, 8, 9]])"
      ]
     },
     "execution_count": 102,
     "metadata": {},
     "output_type": "execute_result"
    }
   ],
   "source": [
    "a"
   ]
  },
  {
   "cell_type": "markdown",
   "id": "burning-manhattan",
   "metadata": {},
   "source": [
    "For the above, matrix, \n",
    "$$\n",
    "(2*\\text{row}_2) - \\text{row}_1 = \\text{row}_3\n",
    "$$\n",
    "Therefore, the rank of a is 2."
   ]
  },
  {
   "cell_type": "code",
   "execution_count": 105,
   "id": "taken-directive",
   "metadata": {
    "ExecuteTime": {
     "end_time": "2021-04-24T02:44:19.540233Z",
     "start_time": "2021-04-24T02:44:19.533730Z"
    }
   },
   "outputs": [
    {
     "name": "stdout",
     "output_type": "stream",
     "text": [
      "rank of a:  2\n"
     ]
    }
   ],
   "source": [
    "print('rank of a: ',np.linalg.matrix_rank(a))"
   ]
  },
  {
   "cell_type": "markdown",
   "id": "presidential-vancouver",
   "metadata": {},
   "source": [
    "# Inverse matrix"
   ]
  },
  {
   "cell_type": "markdown",
   "id": "center-convenience",
   "metadata": {},
   "source": [
    "The inverse of a square matrix $A ∈ R^{n×n}$ is denoted $A^{-1}$, and is the unique matrix such that\n",
    "$$\n",
    "A^{-1}A = AA^{-1} = I\n",
    "$$\n",
    "\n",
    "Note that not all matrices have inverses. Non-square matrices, for example, do not have inverses by definition.  \n",
    "However, for some square matrices A, it may still be the case that $A^{−1}$ may not exist. In particular, we say that A is invertible or non-singular if $A^{−1}$ exists and non-invertible or singular otherwise.  \n",
    "In order for a square matrix A to have an inverse, then A must be full rank, meaning the rank of a matrix is equal to the size of the matrix.\n",
    "\n",
    "Properties of inverse matrix include:\n",
    "$$\n",
    "\\begin{aligned}\n",
    "& (A^{−1})^{−1} = A \\\\\n",
    "& (AB)^{−1} = B^{−1}A^{−1} \\\\\n",
    "& (A^{−1})^{T} = (A^{T})^{−1}\n",
    "\\end{aligned}\n",
    "$$\n",
    "\n",
    "As an example of how the inverse is used, consider the linear system of equations, \n",
    "$$\n",
    "Ax = b\\\\ \\text{ where } A ∈ R^{n×n},\\\\ \\text{and } x, b ∈ R^{n}\n",
    "$$\n",
    "If A is nonsingular (i.e., invertible), then \n",
    "$$\n",
    "x = A^{-1}b.\n",
    "$$"
   ]
  },
  {
   "cell_type": "code",
   "execution_count": 114,
   "id": "blank-preparation",
   "metadata": {
    "ExecuteTime": {
     "end_time": "2021-04-24T02:59:19.487914Z",
     "start_time": "2021-04-24T02:59:19.480590Z"
    }
   },
   "outputs": [
    {
     "name": "stdout",
     "output_type": "stream",
     "text": [
      "inverse: \n",
      " [[-2.   1. ]\n",
      " [ 1.5 -0.5]]\n"
     ]
    }
   ],
   "source": [
    "# inverse matrix calculation when the matrix is invertible\n",
    "a = np.array([[1,2],\n",
    "              [3,4]])\n",
    "print('inverse: \\n', np.linalg.inv(a))"
   ]
  },
  {
   "cell_type": "markdown",
   "id": "acting-masters",
   "metadata": {},
   "source": [
    "The Moore-Penrose pseudo-inverse is a generalization of the matrix inverse when the matrix may not be invertible. If A is invertible, then the Moore-Penrose pseudo inverse is equal to the matrix inverse. However, the Moore-Penrose pseudo inverse is defined even when A is not invertible.  \n",
    "More formally, the Moore-Penrose pseudo inverse, $A^+$, satisfies the following four criteria when $A \\in R^{mxn}$.\n",
    "$$\n",
    "AA^{+}A = A  \\\\\n",
    "A^{+}AA^{+} = A^{+} \\\\\n",
    "(AA^{+})^{T} = AA^{+} \\\\\n",
    "(A^{+}A)^{T} = A^{+}A\n",
    "$$\n",
    "When A is a full rank matrix (invertible matrix) and if m>n, then $A^{+} = A^{-1}$.  \n",
    "Otherwise, $x = A^{+}b$ is not the exact solution for $Ax = b$.  \n",
    "It finds the solution that is closest in the least squares sense."
   ]
  },
  {
   "cell_type": "code",
   "execution_count": 118,
   "id": "described-miami",
   "metadata": {
    "ExecuteTime": {
     "end_time": "2021-04-24T03:17:09.520337Z",
     "start_time": "2021-04-24T03:17:09.482596Z"
    }
   },
   "outputs": [
    {
     "name": "stdout",
     "output_type": "stream",
     "text": [
      "[[1 2 3]\n",
      " [4 5 6]\n",
      " [7 8 9]]\n"
     ]
    },
    {
     "ename": "LinAlgError",
     "evalue": "Singular matrix",
     "output_type": "error",
     "traceback": [
      "\u001b[0;31m---------------------------------------------------------------------------\u001b[0m",
      "\u001b[0;31mLinAlgError\u001b[0m                               Traceback (most recent call last)",
      "\u001b[0;32m<ipython-input-118-8d72263680cd>\u001b[0m in \u001b[0;36m<module>\u001b[0;34m\u001b[0m\n\u001b[1;32m      3\u001b[0m \u001b[0ma\u001b[0m \u001b[0;34m=\u001b[0m \u001b[0mnp\u001b[0m\u001b[0;34m.\u001b[0m\u001b[0marange\u001b[0m\u001b[0;34m(\u001b[0m\u001b[0;36m1\u001b[0m\u001b[0;34m,\u001b[0m \u001b[0;36m10\u001b[0m\u001b[0;34m)\u001b[0m\u001b[0;34m.\u001b[0m\u001b[0mreshape\u001b[0m\u001b[0;34m(\u001b[0m\u001b[0;36m3\u001b[0m\u001b[0;34m,\u001b[0m\u001b[0;36m3\u001b[0m\u001b[0;34m)\u001b[0m\u001b[0;34m\u001b[0m\u001b[0;34m\u001b[0m\u001b[0m\n\u001b[1;32m      4\u001b[0m \u001b[0mprint\u001b[0m\u001b[0;34m(\u001b[0m\u001b[0ma\u001b[0m\u001b[0;34m)\u001b[0m\u001b[0;34m\u001b[0m\u001b[0;34m\u001b[0m\u001b[0m\n\u001b[0;32m----> 5\u001b[0;31m \u001b[0mnp\u001b[0m\u001b[0;34m.\u001b[0m\u001b[0mlinalg\u001b[0m\u001b[0;34m.\u001b[0m\u001b[0minv\u001b[0m\u001b[0;34m(\u001b[0m\u001b[0ma\u001b[0m\u001b[0;34m)\u001b[0m\u001b[0;34m\u001b[0m\u001b[0;34m\u001b[0m\u001b[0m\n\u001b[0m",
      "\u001b[0;32m<__array_function__ internals>\u001b[0m in \u001b[0;36minv\u001b[0;34m(*args, **kwargs)\u001b[0m\n",
      "\u001b[0;32m~/.pyenv/versions/3.8.6/envs/lewagon/lib/python3.8/site-packages/numpy/linalg/linalg.py\u001b[0m in \u001b[0;36minv\u001b[0;34m(a)\u001b[0m\n\u001b[1;32m    543\u001b[0m     \u001b[0msignature\u001b[0m \u001b[0;34m=\u001b[0m \u001b[0;34m'D->D'\u001b[0m \u001b[0;32mif\u001b[0m \u001b[0misComplexType\u001b[0m\u001b[0;34m(\u001b[0m\u001b[0mt\u001b[0m\u001b[0;34m)\u001b[0m \u001b[0;32melse\u001b[0m \u001b[0;34m'd->d'\u001b[0m\u001b[0;34m\u001b[0m\u001b[0;34m\u001b[0m\u001b[0m\n\u001b[1;32m    544\u001b[0m     \u001b[0mextobj\u001b[0m \u001b[0;34m=\u001b[0m \u001b[0mget_linalg_error_extobj\u001b[0m\u001b[0;34m(\u001b[0m\u001b[0m_raise_linalgerror_singular\u001b[0m\u001b[0;34m)\u001b[0m\u001b[0;34m\u001b[0m\u001b[0;34m\u001b[0m\u001b[0m\n\u001b[0;32m--> 545\u001b[0;31m     \u001b[0mainv\u001b[0m \u001b[0;34m=\u001b[0m \u001b[0m_umath_linalg\u001b[0m\u001b[0;34m.\u001b[0m\u001b[0minv\u001b[0m\u001b[0;34m(\u001b[0m\u001b[0ma\u001b[0m\u001b[0;34m,\u001b[0m \u001b[0msignature\u001b[0m\u001b[0;34m=\u001b[0m\u001b[0msignature\u001b[0m\u001b[0;34m,\u001b[0m \u001b[0mextobj\u001b[0m\u001b[0;34m=\u001b[0m\u001b[0mextobj\u001b[0m\u001b[0;34m)\u001b[0m\u001b[0;34m\u001b[0m\u001b[0;34m\u001b[0m\u001b[0m\n\u001b[0m\u001b[1;32m    546\u001b[0m     \u001b[0;32mreturn\u001b[0m \u001b[0mwrap\u001b[0m\u001b[0;34m(\u001b[0m\u001b[0mainv\u001b[0m\u001b[0;34m.\u001b[0m\u001b[0mastype\u001b[0m\u001b[0;34m(\u001b[0m\u001b[0mresult_t\u001b[0m\u001b[0;34m,\u001b[0m \u001b[0mcopy\u001b[0m\u001b[0;34m=\u001b[0m\u001b[0;32mFalse\u001b[0m\u001b[0;34m)\u001b[0m\u001b[0;34m)\u001b[0m\u001b[0;34m\u001b[0m\u001b[0;34m\u001b[0m\u001b[0m\n\u001b[1;32m    547\u001b[0m \u001b[0;34m\u001b[0m\u001b[0m\n",
      "\u001b[0;32m~/.pyenv/versions/3.8.6/envs/lewagon/lib/python3.8/site-packages/numpy/linalg/linalg.py\u001b[0m in \u001b[0;36m_raise_linalgerror_singular\u001b[0;34m(err, flag)\u001b[0m\n\u001b[1;32m     86\u001b[0m \u001b[0;34m\u001b[0m\u001b[0m\n\u001b[1;32m     87\u001b[0m \u001b[0;32mdef\u001b[0m \u001b[0m_raise_linalgerror_singular\u001b[0m\u001b[0;34m(\u001b[0m\u001b[0merr\u001b[0m\u001b[0;34m,\u001b[0m \u001b[0mflag\u001b[0m\u001b[0;34m)\u001b[0m\u001b[0;34m:\u001b[0m\u001b[0;34m\u001b[0m\u001b[0;34m\u001b[0m\u001b[0m\n\u001b[0;32m---> 88\u001b[0;31m     \u001b[0;32mraise\u001b[0m \u001b[0mLinAlgError\u001b[0m\u001b[0;34m(\u001b[0m\u001b[0;34m\"Singular matrix\"\u001b[0m\u001b[0;34m)\u001b[0m\u001b[0;34m\u001b[0m\u001b[0;34m\u001b[0m\u001b[0m\n\u001b[0m\u001b[1;32m     89\u001b[0m \u001b[0;34m\u001b[0m\u001b[0m\n\u001b[1;32m     90\u001b[0m \u001b[0;32mdef\u001b[0m \u001b[0m_raise_linalgerror_nonposdef\u001b[0m\u001b[0;34m(\u001b[0m\u001b[0merr\u001b[0m\u001b[0;34m,\u001b[0m \u001b[0mflag\u001b[0m\u001b[0;34m)\u001b[0m\u001b[0;34m:\u001b[0m\u001b[0;34m\u001b[0m\u001b[0;34m\u001b[0m\u001b[0m\n",
      "\u001b[0;31mLinAlgError\u001b[0m: Singular matrix"
     ]
    }
   ],
   "source": [
    "# as we've seen before, a is not a full-rank matrix and the inverse does not exist\n",
    "# the error message states 'singular matrix' which indicates non-invertible matrix\n",
    "a = np.arange(1, 10).reshape(3,3)\n",
    "print(a)\n",
    "np.linalg.inv(a)"
   ]
  },
  {
   "cell_type": "code",
   "execution_count": 117,
   "id": "environmental-pharmaceutical",
   "metadata": {
    "ExecuteTime": {
     "end_time": "2021-04-24T03:11:07.485869Z",
     "start_time": "2021-04-24T03:11:07.479327Z"
    }
   },
   "outputs": [
    {
     "name": "stdout",
     "output_type": "stream",
     "text": [
      "pseudo inverse: \n",
      " [[-6.38888889e-01 -1.66666667e-01  3.05555556e-01]\n",
      " [-5.55555556e-02  3.78742005e-17  5.55555556e-02]\n",
      " [ 5.27777778e-01  1.66666667e-01 -1.94444444e-01]]\n"
     ]
    }
   ],
   "source": [
    "#Moore-Penrose pseudo-inverse calculation\n",
    "print('pseudo inverse: \\n', np.linalg.pinv(a))"
   ]
  },
  {
   "cell_type": "markdown",
   "id": "eight-audience",
   "metadata": {},
   "source": [
    "# Orthogonal Matrix"
   ]
  },
  {
   "cell_type": "markdown",
   "id": "tribal-bracelet",
   "metadata": {},
   "source": [
    "##### Orthogonal vectors"
   ]
  },
  {
   "cell_type": "markdown",
   "id": "developmental-neutral",
   "metadata": {},
   "source": [
    "Two vectors $x, y ∈ R^n$ are orthogonal if \n",
    "$$\n",
    "x^{T}y = 0\n",
    "$$"
   ]
  },
  {
   "cell_type": "code",
   "execution_count": 132,
   "id": "female-classroom",
   "metadata": {
    "ExecuteTime": {
     "end_time": "2021-04-24T03:25:21.598570Z",
     "start_time": "2021-04-24T03:25:21.591309Z"
    }
   },
   "outputs": [
    {
     "name": "stdout",
     "output_type": "stream",
     "text": [
      "[[0]]\n",
      "vector x and y are orthogonal\n"
     ]
    }
   ],
   "source": [
    "# x and y are both column vectors by conventional notation where the default numpy array is a row vector.\n",
    "# there is an extra transpose to denote column vector in numpy expression\n",
    "x_t = (np.array([[0,1,0,1]]).T).T\n",
    "y = np.array([[1,0,1,0]]).T\n",
    "print(x_t@y)\n",
    "print('vector x and y are orthogonal')"
   ]
  },
  {
   "cell_type": "markdown",
   "id": "liked-footwear",
   "metadata": {},
   "source": [
    "##### Orthogonal matrices"
   ]
  },
  {
   "cell_type": "markdown",
   "id": "focused-examination",
   "metadata": {},
   "source": [
    "- A vector $x ∈ R^n$ is normalized if ${\\parallel x \\parallel}_2 = 1$.\n",
    "- A square matrix $U ∈ R^{n×n}$ is orthogonal if all its columns are orthogonal to each other and are normalized (the columns are then referred to as being orthonormal).\n",
    "\n",
    "An orthogonal matrix follows\n",
    "$$\n",
    "U^{T}U = UU^{T} = I\n",
    "$$\n",
    "In other words, transpose of an orthogonal matrix is its inverse."
   ]
  },
  {
   "cell_type": "code",
   "execution_count": 144,
   "id": "continued-passage",
   "metadata": {
    "ExecuteTime": {
     "end_time": "2021-04-24T03:36:50.808050Z",
     "start_time": "2021-04-24T03:36:50.800889Z"
    }
   },
   "outputs": [
    {
     "name": "stdout",
     "output_type": "stream",
     "text": [
      "True\n",
      "True\n"
     ]
    }
   ],
   "source": [
    "a = np.array([[1,0,0],\n",
    "              [0,0,1],\n",
    "              [0,1,0]])\n",
    "print(np.array_equal((a.T @ a), np.eye(3)))\n",
    "print(np.array_equal((a @ a.T), np.eye(3)))"
   ]
  },
  {
   "cell_type": "code",
   "execution_count": 148,
   "id": "republican-capital",
   "metadata": {
    "ExecuteTime": {
     "end_time": "2021-04-24T03:38:16.814464Z",
     "start_time": "2021-04-24T03:38:16.807538Z"
    }
   },
   "outputs": [
    {
     "name": "stdout",
     "output_type": "stream",
     "text": [
      "Is transpose equal to inverse?\n",
      "True\n"
     ]
    }
   ],
   "source": [
    "print('Is transpose equal to inverse?')\n",
    "print(np.array_equal(a.T, np.linalg.inv(a).astype(int)))"
   ]
  }
 ],
 "metadata": {
  "kernelspec": {
   "display_name": "Python 3",
   "language": "python",
   "name": "python3"
  },
  "language_info": {
   "codemirror_mode": {
    "name": "ipython",
    "version": 3
   },
   "file_extension": ".py",
   "mimetype": "text/x-python",
   "name": "python",
   "nbconvert_exporter": "python",
   "pygments_lexer": "ipython3",
   "version": "3.8.6"
  },
  "toc": {
   "base_numbering": 1,
   "nav_menu": {},
   "number_sections": true,
   "sideBar": true,
   "skip_h1_title": false,
   "title_cell": "Table of Contents",
   "title_sidebar": "Contents",
   "toc_cell": false,
   "toc_position": {},
   "toc_section_display": true,
   "toc_window_display": false
  },
  "varInspector": {
   "cols": {
    "lenName": 16,
    "lenType": 16,
    "lenVar": 40
   },
   "kernels_config": {
    "python": {
     "delete_cmd_postfix": "",
     "delete_cmd_prefix": "del ",
     "library": "var_list.py",
     "varRefreshCmd": "print(var_dic_list())"
    },
    "r": {
     "delete_cmd_postfix": ") ",
     "delete_cmd_prefix": "rm(",
     "library": "var_list.r",
     "varRefreshCmd": "cat(var_dic_list()) "
    }
   },
   "types_to_exclude": [
    "module",
    "function",
    "builtin_function_or_method",
    "instance",
    "_Feature"
   ],
   "window_display": false
  }
 },
 "nbformat": 4,
 "nbformat_minor": 5
}
